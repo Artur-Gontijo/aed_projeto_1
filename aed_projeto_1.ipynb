{
 "cells": [
  {
   "cell_type": "markdown",
   "metadata": {},
   "source": [
    "# Projeto #1 - Análise Exploratória de Dados\n",
    "\n",
    "Antes de começar, leia as [Instruções](https://github.com/thvmm/pos-ds-ia/tree/master/projeto_1#instru%C3%A7%C3%B5es) e os [Critérios de Avaliação](https://github.com/thvmm/pos-ds-ia/tree/master/projeto_1#crit%C3%A9rios-de-avalia%C3%A7%C3%A3o)\n"
   ]
  },
  {
   "cell_type": "markdown",
   "metadata": {},
   "source": [
    "### 1) **(5%)** Qual a base escolhida e qual seu interesse nela?"
   ]
  },
  {
   "cell_type": "markdown",
   "metadata": {},
   "source": [
    "A base escolhida foi https://www.kaggle.com/paololol/league-of-legends-ranked-matches, pois eu habitualmente jogo o jogo sobre o qual fala a base, League of Legends, e gostaria de entender quais são as características do jogo que mais influenciam a taxa de vitória."
   ]
  },
  {
   "cell_type": "markdown",
   "metadata": {},
   "source": [
    "### 2) **(5%)** Descrição básica do conjunto de dados escolhido pelo aluno (1 parágrafo).\n",
    "- Identificação da variável a serem trabalhadas\n",
    "- Classificação das variáveis como: contínua ou discreta.\n"
   ]
  },
  {
   "cell_type": "markdown",
   "metadata": {},
   "source": [
    "A variaveis a serem trabalhadas são:\n",
    "win\tDiscreta\n",
    "kills\tContinua\n",
    "deaths\tContinua\n",
    "assists\tContinua\n",
    "visionscore\tContinua\n",
    "goldearned\tContinua\n",
    "turretkills\tDiscreta\n",
    "inhibkills\tDiscreta\n",
    "firstblood\tDiscreta\n",
    "farm\tContinua\n",
    "championname\tDiscreta\n",
    "baronkills\tDiscreta\n",
    "dragonkills\tDiscreta\n",
    "harrykills\tDiscreta"
   ]
  },
  {
   "cell_type": "markdown",
   "metadata": {},
   "source": [
    "### 2) **(15%)** Faça uma avaliação descritiva da sua base. Quantas linhas ela possui? Quais os tipos de dados? Quantas e quais features possuem?\n",
    "\n",
    "Cada variável escolhida pelo aluno precisa passar por ao menos 1 pré-processamento. O pré-processamento pode ser (mas não está limitado a):\n",
    "- Checagem se os valores estão dentro de um limite permitido ou razoável.\n",
    "- Tratamento de valores ausentes por eliminação ou substituição.\n",
    "- Conversão do tipo de dados.\n"
   ]
  },
  {
   "cell_type": "code",
   "execution_count": 83,
   "metadata": {},
   "outputs": [],
   "source": [
    "#import das bibliotecas\n",
    "import pandas as pd\n",
    "import numpy as np\n",
    "import matplotlib.pyplot as plt\n",
    "from collections import Counter"
   ]
  },
  {
   "cell_type": "code",
   "execution_count": 84,
   "metadata": {},
   "outputs": [
    {
     "name": "stderr",
     "output_type": "stream",
     "text": [
      "C:\\Users\\braga\\Anaconda3\\envs\\pos-ds-ia-3.7\\lib\\site-packages\\IPython\\core\\interactiveshell.py:3058: DtypeWarning: Columns (52) have mixed types. Specify dtype option on import or set low_memory=False.\n",
      "  interactivity=interactivity, compiler=compiler, result=result)\n"
     ]
    }
   ],
   "source": [
    "#Leitura dos CSVs\n",
    "df_champs_org = pd.read_csv('champs.csv')\n",
    "df_matches_org = pd.read_csv('matches.csv')\n",
    "df_participants_org = pd.read_csv('participants.csv')\n",
    "df_stats1 = pd.read_csv('stats1.csv')\n",
    "df_stats2 = pd.read_csv('stats2.csv')\n",
    "df_stats_org = df_stats1.append(df_stats2, ignore_index=True, sort=False)\n",
    "df_teamstats_org = pd.read_csv('teamstats.csv')"
   ]
  },
  {
   "cell_type": "code",
   "execution_count": 85,
   "metadata": {},
   "outputs": [],
   "source": [
    "#tratamento do CSV champs\n",
    "df_champs = df_champs_org.copy()\n",
    "df_champs.rename(columns={'id':'championid'}, inplace=True)\n",
    "df_champs.rename(columns={'name':'championname'}, inplace=True)"
   ]
  },
  {
   "cell_type": "code",
   "execution_count": 86,
   "metadata": {},
   "outputs": [],
   "source": [
    "#tratamento do CSV matches\n",
    "df_matches = df_matches_org.copy()\n",
    "df_matches = df_matches[['id','duration']]\n",
    "df_matches.rename(columns={'id':'gameid'}, inplace=True)"
   ]
  },
  {
   "cell_type": "code",
   "execution_count": 87,
   "metadata": {},
   "outputs": [],
   "source": [
    "#tratamento do CSV participants\n",
    "df_participants = df_participants_org.copy()\n",
    "df_participants = df_participants.drop(['ss1','ss2'],axis=1)\n",
    "df_participants.rename(columns={'matchid':'gameid'}, inplace=True)\n",
    "condicao = [df_participants['player'] <= 5]\n",
    "resultados = ['blue']\n",
    "df_participants['team'] = np.select(condicao, resultados, 'red')\n",
    "condicao = [df_participants['role'] == 'DUO_SUPPORT',\n",
    "           df_participants['role'] == 'DUO_CARRY']\n",
    "resultados = ['SUPPORT','CARRY']\n",
    "df_participants['lane'] = np.select(condicao, resultados, df_participants['position'])\n",
    "df_participants = df_participants.drop(['position','role'],axis=1)\n",
    "df_participants = pd.merge(df_participants,df_champs,how='left', on=['championid'])\n",
    "df_participants = df_participants.drop(['championid'],axis=1)\n",
    "df_participants = pd.merge(df_participants,df_matches,how='left', on=['gameid'])"
   ]
  },
  {
   "cell_type": "code",
   "execution_count": 88,
   "metadata": {},
   "outputs": [],
   "source": [
    "#tratamento do CSV stats\n",
    "df_stats = df_stats_org.copy()\n",
    "df_stats = df_stats[['id','win','kills','deaths','assists','totdmgtochamp','totheal','dmgtoobj','visionscore','totdmgtaken','goldearned','turretkills','inhibkills','totminionskilled','neutralminionskilled','totcctimedealt','firstblood']]\n",
    "df_stats['farm'] = df_stats['totminionskilled'] + df_stats['neutralminionskilled']\n",
    "df_stats = df_stats.drop(['totminionskilled','neutralminionskilled'],axis=1)"
   ]
  },
  {
   "cell_type": "code",
   "execution_count": 89,
   "metadata": {},
   "outputs": [],
   "source": [
    "#tratamento do CSV teamstats\n",
    "df_teamstats = df_teamstats_org.copy()\n",
    "condicao = [df_teamstats['teamid'] == 100]\n",
    "resultados = ['blue']\n",
    "df_teamstats['team'] = np.select(condicao, resultados, 'red')\n",
    "df_teamstats = df_teamstats.drop(['firstblood', 'inhibkills','teamid'],axis=1)\n",
    "df_teamstats.rename(columns={'matchid':'gameid'}, inplace=True)"
   ]
  },
  {
   "cell_type": "code",
   "execution_count": 90,
   "metadata": {},
   "outputs": [],
   "source": [
    "#Junção dos CSVs no DF (base de dados)\n",
    "df_v1 = df_stats.copy()\n",
    "df_v1 = pd.merge(df_v1,df_participants,how='left', on=['id'])\n",
    "df_v2 = df_v1.copy()\n",
    "df_v2 = pd.merge(df_v2,df_teamstats,how='left', on=['gameid','team'])\n",
    "df_v2 = df_v2.drop(['id','gameid','player','team','towerkills'],axis=1)\n",
    "df = df_v2.copy()"
   ]
  },
  {
   "cell_type": "code",
   "execution_count": 91,
   "metadata": {},
   "outputs": [],
   "source": [
    "df = df[df['duration'] >= 900]\n",
    "df = df.drop(['totdmgtochamp','totheal','dmgtoobj','totdmgtaken','totcctimedealt','lane','duration','firsttower','firstinhib','firstbaron','firstdragon','firstharry'],axis=1)"
   ]
  },
  {
   "cell_type": "code",
   "execution_count": 92,
   "metadata": {},
   "outputs": [
    {
     "data": {
      "text/plain": [
       "win              int64\n",
       "kills            int64\n",
       "deaths           int64\n",
       "assists          int64\n",
       "visionscore      int64\n",
       "goldearned       int64\n",
       "turretkills      int64\n",
       "inhibkills       int64\n",
       "firstblood       int64\n",
       "farm             int64\n",
       "championname    object\n",
       "baronkills       int64\n",
       "dragonkills      int64\n",
       "harrykills       int64\n",
       "dtype: object"
      ]
     },
     "execution_count": 92,
     "metadata": {},
     "output_type": "execute_result"
    }
   ],
   "source": [
    "#Tipos de dados\n",
    "df.dtypes"
   ]
  },
  {
   "cell_type": "code",
   "execution_count": 93,
   "metadata": {},
   "outputs": [
    {
     "data": {
      "text/html": [
       "<div>\n",
       "<style scoped>\n",
       "    .dataframe tbody tr th:only-of-type {\n",
       "        vertical-align: middle;\n",
       "    }\n",
       "\n",
       "    .dataframe tbody tr th {\n",
       "        vertical-align: top;\n",
       "    }\n",
       "\n",
       "    .dataframe thead th {\n",
       "        text-align: right;\n",
       "    }\n",
       "</style>\n",
       "<table border=\"1\" class=\"dataframe\">\n",
       "  <thead>\n",
       "    <tr style=\"text-align: right;\">\n",
       "      <th></th>\n",
       "      <th>win</th>\n",
       "      <th>kills</th>\n",
       "      <th>deaths</th>\n",
       "      <th>assists</th>\n",
       "      <th>visionscore</th>\n",
       "      <th>goldearned</th>\n",
       "      <th>turretkills</th>\n",
       "      <th>inhibkills</th>\n",
       "      <th>firstblood</th>\n",
       "      <th>farm</th>\n",
       "      <th>baronkills</th>\n",
       "      <th>dragonkills</th>\n",
       "      <th>harrykills</th>\n",
       "    </tr>\n",
       "  </thead>\n",
       "  <tbody>\n",
       "    <tr>\n",
       "      <th>count</th>\n",
       "      <td>1778703.0</td>\n",
       "      <td>1.778703e+06</td>\n",
       "      <td>1.778703e+06</td>\n",
       "      <td>1.778703e+06</td>\n",
       "      <td>1.778703e+06</td>\n",
       "      <td>1.778703e+06</td>\n",
       "      <td>1.778703e+06</td>\n",
       "      <td>1.778703e+06</td>\n",
       "      <td>1.778703e+06</td>\n",
       "      <td>1.778703e+06</td>\n",
       "      <td>1.778703e+06</td>\n",
       "      <td>1.778703e+06</td>\n",
       "      <td>1.778703e+06</td>\n",
       "    </tr>\n",
       "    <tr>\n",
       "      <th>mean</th>\n",
       "      <td>0.5</td>\n",
       "      <td>5.960496e+00</td>\n",
       "      <td>5.984102e+00</td>\n",
       "      <td>8.569655e+00</td>\n",
       "      <td>1.425631e+01</td>\n",
       "      <td>1.173072e+04</td>\n",
       "      <td>9.406281e-01</td>\n",
       "      <td>1.860541e-01</td>\n",
       "      <td>1.003366e-01</td>\n",
       "      <td>1.449135e+02</td>\n",
       "      <td>4.278916e-01</td>\n",
       "      <td>1.486278e+00</td>\n",
       "      <td>2.351039e-01</td>\n",
       "    </tr>\n",
       "    <tr>\n",
       "      <th>std</th>\n",
       "      <td>0.5</td>\n",
       "      <td>4.567585e+00</td>\n",
       "      <td>3.161377e+00</td>\n",
       "      <td>5.837440e+00</td>\n",
       "      <td>1.750048e+01</td>\n",
       "      <td>3.640578e+03</td>\n",
       "      <td>1.219428e+00</td>\n",
       "      <td>4.678034e-01</td>\n",
       "      <td>3.004484e-01</td>\n",
       "      <td>8.036615e+01</td>\n",
       "      <td>6.133558e-01</td>\n",
       "      <td>1.230738e+00</td>\n",
       "      <td>4.250438e-01</td>\n",
       "    </tr>\n",
       "    <tr>\n",
       "      <th>min</th>\n",
       "      <td>0.0</td>\n",
       "      <td>0.000000e+00</td>\n",
       "      <td>0.000000e+00</td>\n",
       "      <td>0.000000e+00</td>\n",
       "      <td>0.000000e+00</td>\n",
       "      <td>2.064000e+03</td>\n",
       "      <td>0.000000e+00</td>\n",
       "      <td>0.000000e+00</td>\n",
       "      <td>0.000000e+00</td>\n",
       "      <td>0.000000e+00</td>\n",
       "      <td>0.000000e+00</td>\n",
       "      <td>0.000000e+00</td>\n",
       "      <td>0.000000e+00</td>\n",
       "    </tr>\n",
       "    <tr>\n",
       "      <th>25%</th>\n",
       "      <td>0.0</td>\n",
       "      <td>2.000000e+00</td>\n",
       "      <td>4.000000e+00</td>\n",
       "      <td>4.000000e+00</td>\n",
       "      <td>0.000000e+00</td>\n",
       "      <td>9.116000e+03</td>\n",
       "      <td>0.000000e+00</td>\n",
       "      <td>0.000000e+00</td>\n",
       "      <td>0.000000e+00</td>\n",
       "      <td>8.600000e+01</td>\n",
       "      <td>0.000000e+00</td>\n",
       "      <td>0.000000e+00</td>\n",
       "      <td>0.000000e+00</td>\n",
       "    </tr>\n",
       "    <tr>\n",
       "      <th>50%</th>\n",
       "      <td>0.0</td>\n",
       "      <td>5.000000e+00</td>\n",
       "      <td>6.000000e+00</td>\n",
       "      <td>7.000000e+00</td>\n",
       "      <td>1.000000e+01</td>\n",
       "      <td>1.149300e+04</td>\n",
       "      <td>1.000000e+00</td>\n",
       "      <td>0.000000e+00</td>\n",
       "      <td>0.000000e+00</td>\n",
       "      <td>1.480000e+02</td>\n",
       "      <td>0.000000e+00</td>\n",
       "      <td>1.000000e+00</td>\n",
       "      <td>0.000000e+00</td>\n",
       "    </tr>\n",
       "    <tr>\n",
       "      <th>75%</th>\n",
       "      <td>1.0</td>\n",
       "      <td>9.000000e+00</td>\n",
       "      <td>8.000000e+00</td>\n",
       "      <td>1.200000e+01</td>\n",
       "      <td>2.200000e+01</td>\n",
       "      <td>1.403300e+04</td>\n",
       "      <td>2.000000e+00</td>\n",
       "      <td>0.000000e+00</td>\n",
       "      <td>0.000000e+00</td>\n",
       "      <td>1.990000e+02</td>\n",
       "      <td>1.000000e+00</td>\n",
       "      <td>2.000000e+00</td>\n",
       "      <td>0.000000e+00</td>\n",
       "    </tr>\n",
       "    <tr>\n",
       "      <th>max</th>\n",
       "      <td>1.0</td>\n",
       "      <td>4.500000e+01</td>\n",
       "      <td>3.800000e+01</td>\n",
       "      <td>5.700000e+01</td>\n",
       "      <td>1.790000e+02</td>\n",
       "      <td>4.098200e+04</td>\n",
       "      <td>1.000000e+01</td>\n",
       "      <td>7.000000e+00</td>\n",
       "      <td>1.000000e+00</td>\n",
       "      <td>7.610000e+02</td>\n",
       "      <td>5.000000e+00</td>\n",
       "      <td>7.000000e+00</td>\n",
       "      <td>2.000000e+00</td>\n",
       "    </tr>\n",
       "  </tbody>\n",
       "</table>\n",
       "</div>"
      ],
      "text/plain": [
       "             win         kills        deaths       assists   visionscore  \\\n",
       "count  1778703.0  1.778703e+06  1.778703e+06  1.778703e+06  1.778703e+06   \n",
       "mean         0.5  5.960496e+00  5.984102e+00  8.569655e+00  1.425631e+01   \n",
       "std          0.5  4.567585e+00  3.161377e+00  5.837440e+00  1.750048e+01   \n",
       "min          0.0  0.000000e+00  0.000000e+00  0.000000e+00  0.000000e+00   \n",
       "25%          0.0  2.000000e+00  4.000000e+00  4.000000e+00  0.000000e+00   \n",
       "50%          0.0  5.000000e+00  6.000000e+00  7.000000e+00  1.000000e+01   \n",
       "75%          1.0  9.000000e+00  8.000000e+00  1.200000e+01  2.200000e+01   \n",
       "max          1.0  4.500000e+01  3.800000e+01  5.700000e+01  1.790000e+02   \n",
       "\n",
       "         goldearned   turretkills    inhibkills    firstblood          farm  \\\n",
       "count  1.778703e+06  1.778703e+06  1.778703e+06  1.778703e+06  1.778703e+06   \n",
       "mean   1.173072e+04  9.406281e-01  1.860541e-01  1.003366e-01  1.449135e+02   \n",
       "std    3.640578e+03  1.219428e+00  4.678034e-01  3.004484e-01  8.036615e+01   \n",
       "min    2.064000e+03  0.000000e+00  0.000000e+00  0.000000e+00  0.000000e+00   \n",
       "25%    9.116000e+03  0.000000e+00  0.000000e+00  0.000000e+00  8.600000e+01   \n",
       "50%    1.149300e+04  1.000000e+00  0.000000e+00  0.000000e+00  1.480000e+02   \n",
       "75%    1.403300e+04  2.000000e+00  0.000000e+00  0.000000e+00  1.990000e+02   \n",
       "max    4.098200e+04  1.000000e+01  7.000000e+00  1.000000e+00  7.610000e+02   \n",
       "\n",
       "         baronkills   dragonkills    harrykills  \n",
       "count  1.778703e+06  1.778703e+06  1.778703e+06  \n",
       "mean   4.278916e-01  1.486278e+00  2.351039e-01  \n",
       "std    6.133558e-01  1.230738e+00  4.250438e-01  \n",
       "min    0.000000e+00  0.000000e+00  0.000000e+00  \n",
       "25%    0.000000e+00  0.000000e+00  0.000000e+00  \n",
       "50%    0.000000e+00  1.000000e+00  0.000000e+00  \n",
       "75%    1.000000e+00  2.000000e+00  0.000000e+00  \n",
       "max    5.000000e+00  7.000000e+00  2.000000e+00  "
      ]
     },
     "execution_count": 93,
     "metadata": {},
     "output_type": "execute_result"
    }
   ],
   "source": [
    "df.describe()"
   ]
  },
  {
   "cell_type": "code",
   "execution_count": 94,
   "metadata": {},
   "outputs": [
    {
     "data": {
      "text/plain": [
       "<matplotlib.axes._subplots.AxesSubplot at 0x16fc4345eb8>"
      ]
     },
     "execution_count": 94,
     "metadata": {},
     "output_type": "execute_result"
    },
    {
     "data": {
      "image/png": "[encoded data removed]",
      "text/plain": [
       "<Figure size 432x288 with 1 Axes>"
      ]
     },
     "metadata": {
      "needs_background": "light"
     },
     "output_type": "display_data"
    }
   ],
   "source": [
    "df['visionscore'].plot(kind=\"hist\")"
   ]
  },
  {
   "cell_type": "code",
   "execution_count": 95,
   "metadata": {},
   "outputs": [
    {
     "data": {
      "text/plain": [
       "<matplotlib.axes._subplots.AxesSubplot at 0x16faeae42b0>"
      ]
     },
     "execution_count": 95,
     "metadata": {},
     "output_type": "execute_result"
    },
    {
     "data": {
      "image/png": "[encoded data removed]",
      "text/plain": [
       "<Figure size 432x288 with 1 Axes>"
      ]
     },
     "metadata": {
      "needs_background": "light"
     },
     "output_type": "display_data"
    }
   ],
   "source": [
    "df['farm'].plot(kind=\"hist\")"
   ]
  },
  {
   "cell_type": "code",
   "execution_count": 96,
   "metadata": {},
   "outputs": [
    {
     "data": {
      "text/plain": [
       "<matplotlib.axes._subplots.AxesSubplot at 0x16faeaeb518>"
      ]
     },
     "execution_count": 96,
     "metadata": {},
     "output_type": "execute_result"
    },
    {
     "data": {
      "image/png": "[encoded data removed]",
      "text/plain": [
       "<Figure size 432x288 with 1 Axes>"
      ]
     },
     "metadata": {
      "needs_background": "light"
     },
     "output_type": "display_data"
    }
   ],
   "source": [
    "df['baronkills'].plot(kind=\"hist\")"
   ]
  },
  {
   "cell_type": "code",
   "execution_count": 97,
   "metadata": {},
   "outputs": [
    {
     "data": {
      "text/plain": [
       "<matplotlib.axes._subplots.AxesSubplot at 0x16f811ab390>"
      ]
     },
     "execution_count": 97,
     "metadata": {},
     "output_type": "execute_result"
    },
    {
     "data": {
      "image/png": "[encoded data removed]",
      "text/plain": [
       "<Figure size 432x288 with 1 Axes>"
      ]
     },
     "metadata": {
      "needs_background": "light"
     },
     "output_type": "display_data"
    }
   ],
   "source": [
    "df['dragonkills'].plot(kind=\"hist\")"
   ]
  },
  {
   "cell_type": "code",
   "execution_count": 98,
   "metadata": {},
   "outputs": [
    {
     "data": {
      "text/plain": [
       "<matplotlib.axes._subplots.AxesSubplot at 0x16f8119fb00>"
      ]
     },
     "execution_count": 98,
     "metadata": {},
     "output_type": "execute_result"
    },
    {
     "data": {
      "image/png": "[encoded data removed]",
      "text/plain": [
       "<Figure size 432x288 with 1 Axes>"
      ]
     },
     "metadata": {
      "needs_background": "light"
     },
     "output_type": "display_data"
    }
   ],
   "source": [
    "df['harrykills'].plot(kind=\"hist\")"
   ]
  },
  {
   "cell_type": "code",
   "execution_count": 99,
   "metadata": {},
   "outputs": [],
   "source": [
    "df = df[df['visionscore'] <= 100]\n",
    "df = df[df['farm'] <= 400]\n",
    "df = df[df['baronkills'] <= 3]\n",
    "df = df[df['dragonkills'] <= 5]\n",
    "df = df[df['harrykills'] <= 1]"
   ]
  },
  {
   "cell_type": "code",
   "execution_count": 100,
   "metadata": {},
   "outputs": [
    {
     "data": {
      "text/html": [
       "<div>\n",
       "<style scoped>\n",
       "    .dataframe tbody tr th:only-of-type {\n",
       "        vertical-align: middle;\n",
       "    }\n",
       "\n",
       "    .dataframe tbody tr th {\n",
       "        vertical-align: top;\n",
       "    }\n",
       "\n",
       "    .dataframe thead th {\n",
       "        text-align: right;\n",
       "    }\n",
       "</style>\n",
       "<table border=\"1\" class=\"dataframe\">\n",
       "  <thead>\n",
       "    <tr style=\"text-align: right;\">\n",
       "      <th></th>\n",
       "      <th>win</th>\n",
       "      <th>kills</th>\n",
       "      <th>deaths</th>\n",
       "      <th>assists</th>\n",
       "      <th>visionscore</th>\n",
       "      <th>goldearned</th>\n",
       "      <th>turretkills</th>\n",
       "      <th>inhibkills</th>\n",
       "      <th>firstblood</th>\n",
       "      <th>farm</th>\n",
       "      <th>baronkills</th>\n",
       "      <th>dragonkills</th>\n",
       "      <th>harrykills</th>\n",
       "    </tr>\n",
       "  </thead>\n",
       "  <tbody>\n",
       "    <tr>\n",
       "      <th>count</th>\n",
       "      <td>1.770612e+06</td>\n",
       "      <td>1.770612e+06</td>\n",
       "      <td>1.770612e+06</td>\n",
       "      <td>1.770612e+06</td>\n",
       "      <td>1.770612e+06</td>\n",
       "      <td>1.770612e+06</td>\n",
       "      <td>1.770612e+06</td>\n",
       "      <td>1.770612e+06</td>\n",
       "      <td>1.770612e+06</td>\n",
       "      <td>1.770612e+06</td>\n",
       "      <td>1.770612e+06</td>\n",
       "      <td>1.770612e+06</td>\n",
       "      <td>1.770612e+06</td>\n",
       "    </tr>\n",
       "    <tr>\n",
       "      <th>mean</th>\n",
       "      <td>4.995103e-01</td>\n",
       "      <td>5.950672e+00</td>\n",
       "      <td>5.977339e+00</td>\n",
       "      <td>8.539131e+00</td>\n",
       "      <td>1.408031e+01</td>\n",
       "      <td>1.169779e+04</td>\n",
       "      <td>9.384286e-01</td>\n",
       "      <td>1.848660e-01</td>\n",
       "      <td>1.003856e-01</td>\n",
       "      <td>1.444841e+02</td>\n",
       "      <td>4.239144e-01</td>\n",
       "      <td>1.479538e+00</td>\n",
       "      <td>2.342992e-01</td>\n",
       "    </tr>\n",
       "    <tr>\n",
       "      <th>std</th>\n",
       "      <td>4.999999e-01</td>\n",
       "      <td>4.556915e+00</td>\n",
       "      <td>3.157973e+00</td>\n",
       "      <td>5.808418e+00</td>\n",
       "      <td>1.702835e+01</td>\n",
       "      <td>3.598000e+03</td>\n",
       "      <td>1.217530e+00</td>\n",
       "      <td>4.655621e-01</td>\n",
       "      <td>3.005136e-01</td>\n",
       "      <td>7.941046e+01</td>\n",
       "      <td>6.077109e-01</td>\n",
       "      <td>1.223784e+00</td>\n",
       "      <td>4.235601e-01</td>\n",
       "    </tr>\n",
       "    <tr>\n",
       "      <th>min</th>\n",
       "      <td>0.000000e+00</td>\n",
       "      <td>0.000000e+00</td>\n",
       "      <td>0.000000e+00</td>\n",
       "      <td>0.000000e+00</td>\n",
       "      <td>0.000000e+00</td>\n",
       "      <td>2.064000e+03</td>\n",
       "      <td>0.000000e+00</td>\n",
       "      <td>0.000000e+00</td>\n",
       "      <td>0.000000e+00</td>\n",
       "      <td>0.000000e+00</td>\n",
       "      <td>0.000000e+00</td>\n",
       "      <td>0.000000e+00</td>\n",
       "      <td>0.000000e+00</td>\n",
       "    </tr>\n",
       "    <tr>\n",
       "      <th>25%</th>\n",
       "      <td>0.000000e+00</td>\n",
       "      <td>2.000000e+00</td>\n",
       "      <td>4.000000e+00</td>\n",
       "      <td>4.000000e+00</td>\n",
       "      <td>0.000000e+00</td>\n",
       "      <td>9.105000e+03</td>\n",
       "      <td>0.000000e+00</td>\n",
       "      <td>0.000000e+00</td>\n",
       "      <td>0.000000e+00</td>\n",
       "      <td>8.600000e+01</td>\n",
       "      <td>0.000000e+00</td>\n",
       "      <td>0.000000e+00</td>\n",
       "      <td>0.000000e+00</td>\n",
       "    </tr>\n",
       "    <tr>\n",
       "      <th>50%</th>\n",
       "      <td>0.000000e+00</td>\n",
       "      <td>5.000000e+00</td>\n",
       "      <td>6.000000e+00</td>\n",
       "      <td>7.000000e+00</td>\n",
       "      <td>1.000000e+01</td>\n",
       "      <td>1.147500e+04</td>\n",
       "      <td>1.000000e+00</td>\n",
       "      <td>0.000000e+00</td>\n",
       "      <td>0.000000e+00</td>\n",
       "      <td>1.480000e+02</td>\n",
       "      <td>0.000000e+00</td>\n",
       "      <td>1.000000e+00</td>\n",
       "      <td>0.000000e+00</td>\n",
       "    </tr>\n",
       "    <tr>\n",
       "      <th>75%</th>\n",
       "      <td>1.000000e+00</td>\n",
       "      <td>9.000000e+00</td>\n",
       "      <td>8.000000e+00</td>\n",
       "      <td>1.200000e+01</td>\n",
       "      <td>2.200000e+01</td>\n",
       "      <td>1.400400e+04</td>\n",
       "      <td>1.000000e+00</td>\n",
       "      <td>0.000000e+00</td>\n",
       "      <td>0.000000e+00</td>\n",
       "      <td>1.990000e+02</td>\n",
       "      <td>1.000000e+00</td>\n",
       "      <td>2.000000e+00</td>\n",
       "      <td>0.000000e+00</td>\n",
       "    </tr>\n",
       "    <tr>\n",
       "      <th>max</th>\n",
       "      <td>1.000000e+00</td>\n",
       "      <td>4.500000e+01</td>\n",
       "      <td>3.800000e+01</td>\n",
       "      <td>5.200000e+01</td>\n",
       "      <td>1.000000e+02</td>\n",
       "      <td>3.656300e+04</td>\n",
       "      <td>1.000000e+01</td>\n",
       "      <td>7.000000e+00</td>\n",
       "      <td>1.000000e+00</td>\n",
       "      <td>4.000000e+02</td>\n",
       "      <td>3.000000e+00</td>\n",
       "      <td>5.000000e+00</td>\n",
       "      <td>1.000000e+00</td>\n",
       "    </tr>\n",
       "  </tbody>\n",
       "</table>\n",
       "</div>"
      ],
      "text/plain": [
       "                win         kills        deaths       assists   visionscore  \\\n",
       "count  1.770612e+06  1.770612e+06  1.770612e+06  1.770612e+06  1.770612e+06   \n",
       "mean   4.995103e-01  5.950672e+00  5.977339e+00  8.539131e+00  1.408031e+01   \n",
       "std    4.999999e-01  4.556915e+00  3.157973e+00  5.808418e+00  1.702835e+01   \n",
       "min    0.000000e+00  0.000000e+00  0.000000e+00  0.000000e+00  0.000000e+00   \n",
       "25%    0.000000e+00  2.000000e+00  4.000000e+00  4.000000e+00  0.000000e+00   \n",
       "50%    0.000000e+00  5.000000e+00  6.000000e+00  7.000000e+00  1.000000e+01   \n",
       "75%    1.000000e+00  9.000000e+00  8.000000e+00  1.200000e+01  2.200000e+01   \n",
       "max    1.000000e+00  4.500000e+01  3.800000e+01  5.200000e+01  1.000000e+02   \n",
       "\n",
       "         goldearned   turretkills    inhibkills    firstblood          farm  \\\n",
       "count  1.770612e+06  1.770612e+06  1.770612e+06  1.770612e+06  1.770612e+06   \n",
       "mean   1.169779e+04  9.384286e-01  1.848660e-01  1.003856e-01  1.444841e+02   \n",
       "std    3.598000e+03  1.217530e+00  4.655621e-01  3.005136e-01  7.941046e+01   \n",
       "min    2.064000e+03  0.000000e+00  0.000000e+00  0.000000e+00  0.000000e+00   \n",
       "25%    9.105000e+03  0.000000e+00  0.000000e+00  0.000000e+00  8.600000e+01   \n",
       "50%    1.147500e+04  1.000000e+00  0.000000e+00  0.000000e+00  1.480000e+02   \n",
       "75%    1.400400e+04  1.000000e+00  0.000000e+00  0.000000e+00  1.990000e+02   \n",
       "max    3.656300e+04  1.000000e+01  7.000000e+00  1.000000e+00  4.000000e+02   \n",
       "\n",
       "         baronkills   dragonkills    harrykills  \n",
       "count  1.770612e+06  1.770612e+06  1.770612e+06  \n",
       "mean   4.239144e-01  1.479538e+00  2.342992e-01  \n",
       "std    6.077109e-01  1.223784e+00  4.235601e-01  \n",
       "min    0.000000e+00  0.000000e+00  0.000000e+00  \n",
       "25%    0.000000e+00  0.000000e+00  0.000000e+00  \n",
       "50%    0.000000e+00  1.000000e+00  0.000000e+00  \n",
       "75%    1.000000e+00  2.000000e+00  0.000000e+00  \n",
       "max    3.000000e+00  5.000000e+00  1.000000e+00  "
      ]
     },
     "execution_count": 100,
     "metadata": {},
     "output_type": "execute_result"
    }
   ],
   "source": [
    "df.describe()"
   ]
  },
  {
   "cell_type": "code",
   "execution_count": 101,
   "metadata": {},
   "outputs": [
    {
     "data": {
      "text/html": [
       "<div>\n",
       "<style scoped>\n",
       "    .dataframe tbody tr th:only-of-type {\n",
       "        vertical-align: middle;\n",
       "    }\n",
       "\n",
       "    .dataframe tbody tr th {\n",
       "        vertical-align: top;\n",
       "    }\n",
       "\n",
       "    .dataframe thead th {\n",
       "        text-align: right;\n",
       "    }\n",
       "</style>\n",
       "<table border=\"1\" class=\"dataframe\">\n",
       "  <thead>\n",
       "    <tr style=\"text-align: right;\">\n",
       "      <th></th>\n",
       "      <th>win</th>\n",
       "      <th>kills</th>\n",
       "      <th>deaths</th>\n",
       "      <th>assists</th>\n",
       "      <th>visionscore</th>\n",
       "      <th>goldearned</th>\n",
       "      <th>turretkills</th>\n",
       "      <th>inhibkills</th>\n",
       "      <th>firstblood</th>\n",
       "      <th>farm</th>\n",
       "      <th>championname</th>\n",
       "      <th>baronkills</th>\n",
       "      <th>dragonkills</th>\n",
       "      <th>harrykills</th>\n",
       "    </tr>\n",
       "  </thead>\n",
       "  <tbody>\n",
       "    <tr>\n",
       "      <th>0</th>\n",
       "      <td>0</td>\n",
       "      <td>6</td>\n",
       "      <td>10</td>\n",
       "      <td>1</td>\n",
       "      <td>14</td>\n",
       "      <td>10497</td>\n",
       "      <td>0</td>\n",
       "      <td>0</td>\n",
       "      <td>0</td>\n",
       "      <td>111</td>\n",
       "      <td>Warwick</td>\n",
       "      <td>0</td>\n",
       "      <td>0</td>\n",
       "      <td>0</td>\n",
       "    </tr>\n",
       "    <tr>\n",
       "      <th>1</th>\n",
       "      <td>0</td>\n",
       "      <td>0</td>\n",
       "      <td>2</td>\n",
       "      <td>12</td>\n",
       "      <td>30</td>\n",
       "      <td>9496</td>\n",
       "      <td>1</td>\n",
       "      <td>0</td>\n",
       "      <td>0</td>\n",
       "      <td>18</td>\n",
       "      <td>Nami</td>\n",
       "      <td>0</td>\n",
       "      <td>0</td>\n",
       "      <td>0</td>\n",
       "    </tr>\n",
       "    <tr>\n",
       "      <th>2</th>\n",
       "      <td>0</td>\n",
       "      <td>7</td>\n",
       "      <td>8</td>\n",
       "      <td>5</td>\n",
       "      <td>26</td>\n",
       "      <td>13136</td>\n",
       "      <td>0</td>\n",
       "      <td>0</td>\n",
       "      <td>0</td>\n",
       "      <td>208</td>\n",
       "      <td>Draven</td>\n",
       "      <td>0</td>\n",
       "      <td>0</td>\n",
       "      <td>0</td>\n",
       "    </tr>\n",
       "    <tr>\n",
       "      <th>3</th>\n",
       "      <td>0</td>\n",
       "      <td>5</td>\n",
       "      <td>11</td>\n",
       "      <td>2</td>\n",
       "      <td>5</td>\n",
       "      <td>11006</td>\n",
       "      <td>3</td>\n",
       "      <td>0</td>\n",
       "      <td>0</td>\n",
       "      <td>170</td>\n",
       "      <td>Fiora</td>\n",
       "      <td>0</td>\n",
       "      <td>0</td>\n",
       "      <td>0</td>\n",
       "    </tr>\n",
       "    <tr>\n",
       "      <th>4</th>\n",
       "      <td>0</td>\n",
       "      <td>2</td>\n",
       "      <td>8</td>\n",
       "      <td>2</td>\n",
       "      <td>15</td>\n",
       "      <td>11439</td>\n",
       "      <td>1</td>\n",
       "      <td>0</td>\n",
       "      <td>0</td>\n",
       "      <td>239</td>\n",
       "      <td>Viktor</td>\n",
       "      <td>0</td>\n",
       "      <td>0</td>\n",
       "      <td>0</td>\n",
       "    </tr>\n",
       "    <tr>\n",
       "      <th>...</th>\n",
       "      <td>...</td>\n",
       "      <td>...</td>\n",
       "      <td>...</td>\n",
       "      <td>...</td>\n",
       "      <td>...</td>\n",
       "      <td>...</td>\n",
       "      <td>...</td>\n",
       "      <td>...</td>\n",
       "      <td>...</td>\n",
       "      <td>...</td>\n",
       "      <td>...</td>\n",
       "      <td>...</td>\n",
       "      <td>...</td>\n",
       "      <td>...</td>\n",
       "    </tr>\n",
       "    <tr>\n",
       "      <th>1834512</th>\n",
       "      <td>0</td>\n",
       "      <td>11</td>\n",
       "      <td>10</td>\n",
       "      <td>2</td>\n",
       "      <td>0</td>\n",
       "      <td>16413</td>\n",
       "      <td>1</td>\n",
       "      <td>0</td>\n",
       "      <td>0</td>\n",
       "      <td>319</td>\n",
       "      <td>Jinx</td>\n",
       "      <td>0</td>\n",
       "      <td>1</td>\n",
       "      <td>0</td>\n",
       "    </tr>\n",
       "    <tr>\n",
       "      <th>1834513</th>\n",
       "      <td>0</td>\n",
       "      <td>11</td>\n",
       "      <td>9</td>\n",
       "      <td>7</td>\n",
       "      <td>0</td>\n",
       "      <td>13340</td>\n",
       "      <td>0</td>\n",
       "      <td>0</td>\n",
       "      <td>0</td>\n",
       "      <td>192</td>\n",
       "      <td>Annie</td>\n",
       "      <td>0</td>\n",
       "      <td>1</td>\n",
       "      <td>0</td>\n",
       "    </tr>\n",
       "    <tr>\n",
       "      <th>1834514</th>\n",
       "      <td>0</td>\n",
       "      <td>4</td>\n",
       "      <td>8</td>\n",
       "      <td>10</td>\n",
       "      <td>0</td>\n",
       "      <td>11972</td>\n",
       "      <td>1</td>\n",
       "      <td>0</td>\n",
       "      <td>0</td>\n",
       "      <td>59</td>\n",
       "      <td>Blitzcrank</td>\n",
       "      <td>0</td>\n",
       "      <td>1</td>\n",
       "      <td>0</td>\n",
       "    </tr>\n",
       "    <tr>\n",
       "      <th>1834515</th>\n",
       "      <td>0</td>\n",
       "      <td>2</td>\n",
       "      <td>11</td>\n",
       "      <td>3</td>\n",
       "      <td>0</td>\n",
       "      <td>10041</td>\n",
       "      <td>0</td>\n",
       "      <td>0</td>\n",
       "      <td>0</td>\n",
       "      <td>100</td>\n",
       "      <td>Riven</td>\n",
       "      <td>0</td>\n",
       "      <td>1</td>\n",
       "      <td>0</td>\n",
       "    </tr>\n",
       "    <tr>\n",
       "      <th>1834516</th>\n",
       "      <td>0</td>\n",
       "      <td>7</td>\n",
       "      <td>11</td>\n",
       "      <td>9</td>\n",
       "      <td>0</td>\n",
       "      <td>14342</td>\n",
       "      <td>2</td>\n",
       "      <td>0</td>\n",
       "      <td>0</td>\n",
       "      <td>240</td>\n",
       "      <td>Olaf</td>\n",
       "      <td>0</td>\n",
       "      <td>1</td>\n",
       "      <td>0</td>\n",
       "    </tr>\n",
       "  </tbody>\n",
       "</table>\n",
       "<p>1770612 rows × 14 columns</p>\n",
       "</div>"
      ],
      "text/plain": [
       "         win  kills  deaths  assists  visionscore  goldearned  turretkills  \\\n",
       "0          0      6      10        1           14       10497            0   \n",
       "1          0      0       2       12           30        9496            1   \n",
       "2          0      7       8        5           26       13136            0   \n",
       "3          0      5      11        2            5       11006            3   \n",
       "4          0      2       8        2           15       11439            1   \n",
       "...      ...    ...     ...      ...          ...         ...          ...   \n",
       "1834512    0     11      10        2            0       16413            1   \n",
       "1834513    0     11       9        7            0       13340            0   \n",
       "1834514    0      4       8       10            0       11972            1   \n",
       "1834515    0      2      11        3            0       10041            0   \n",
       "1834516    0      7      11        9            0       14342            2   \n",
       "\n",
       "         inhibkills  firstblood  farm championname  baronkills  dragonkills  \\\n",
       "0                 0           0   111      Warwick           0            0   \n",
       "1                 0           0    18         Nami           0            0   \n",
       "2                 0           0   208       Draven           0            0   \n",
       "3                 0           0   170        Fiora           0            0   \n",
       "4                 0           0   239       Viktor           0            0   \n",
       "...             ...         ...   ...          ...         ...          ...   \n",
       "1834512           0           0   319         Jinx           0            1   \n",
       "1834513           0           0   192        Annie           0            1   \n",
       "1834514           0           0    59   Blitzcrank           0            1   \n",
       "1834515           0           0   100        Riven           0            1   \n",
       "1834516           0           0   240         Olaf           0            1   \n",
       "\n",
       "         harrykills  \n",
       "0                 0  \n",
       "1                 0  \n",
       "2                 0  \n",
       "3                 0  \n",
       "4                 0  \n",
       "...             ...  \n",
       "1834512           0  \n",
       "1834513           0  \n",
       "1834514           0  \n",
       "1834515           0  \n",
       "1834516           0  \n",
       "\n",
       "[1770612 rows x 14 columns]"
      ]
     },
     "execution_count": 101,
     "metadata": {},
     "output_type": "execute_result"
    }
   ],
   "source": [
    "df\n",
    "#1770612 linhas com 14 features"
   ]
  },
  {
   "cell_type": "markdown",
   "metadata": {},
   "source": [
    "### 4) **(60%)** Nos blocos seguintes construa análises que vão justificar suas conclusões."
   ]
  },
  {
   "cell_type": "markdown",
   "metadata": {},
   "source": [
    "#### 4.1) **(20%)** Análise 1 -  Distribuição dos valores para cada uma das variáveis\n",
    "- Exemplo para variável contínua: se o conjunto de dados possui a variável \"idade\". Quantos % possui a idade entre 0 e 30 anos? 31 a 59? 60+?\n",
    "\n",
    "- Exemplo para variável discreta: se o conjunto de dados possui a variável \"gênero\", quantos % do conjunto de dados é do sexo feminino, quantos % é masculino? Inclua outros gêneros se houver.\n"
   ]
  },
  {
   "cell_type": "code",
   "execution_count": 102,
   "metadata": {},
   "outputs": [
    {
     "data": {
      "text/plain": [
       "0    0.50049\n",
       "1    0.49951\n",
       "Name: win, dtype: float64"
      ]
     },
     "execution_count": 102,
     "metadata": {},
     "output_type": "execute_result"
    }
   ],
   "source": [
    "#win\n",
    "df['win'].value_counts(normalize=True)\n",
    "#0 = perder\n",
    "#1 = ganhar\n",
    "#distribuição homogenia (o jogo é bem balanceado)"
   ]
  },
  {
   "cell_type": "code",
   "execution_count": 103,
   "metadata": {},
   "outputs": [
    {
     "data": {
      "text/plain": [
       "Text(0.5, 1.0, 'Quantidade de kills por faixa')"
      ]
     },
     "execution_count": 103,
     "metadata": {},
     "output_type": "execute_result"
    },
    {
     "data": {
      "image/png": "[encoded data removed]",
      "text/plain": [
       "<Figure size 432x288 with 1 Axes>"
      ]
     },
     "metadata": {
      "needs_background": "light"
     },
     "output_type": "display_data"
    }
   ],
   "source": [
    "#kills\n",
    "a = len(df[df['kills'] <= 5])\n",
    "b = len(df[df['kills'] <=10])\n",
    "c = len(df[df['kills'] <=15])\n",
    "d = len(df['kills'])\n",
    "\n",
    "x = ['ate 5','5 a 10','10 a 15','15+']\n",
    "y = [a,b-a,c-b,d-c]\n",
    "plt.bar(x, y, label = 'Barrar1', color = 'g')\n",
    "plt.xlabel(\"Faixas\")\n",
    "plt.ylabel(\"Quantidade\")\n",
    "plt.title('Quantidade de kills por faixa')"
   ]
  },
  {
   "cell_type": "code",
   "execution_count": 104,
   "metadata": {},
   "outputs": [
    {
     "data": {
      "text/plain": [
       "Text(0.5, 1.0, 'Quantidade de deaths por faixa')"
      ]
     },
     "execution_count": 104,
     "metadata": {},
     "output_type": "execute_result"
    },
    {
     "data": {
      "image/png": "[encoded data removed]",
      "text/plain": [
       "<Figure size 432x288 with 1 Axes>"
      ]
     },
     "metadata": {
      "needs_background": "light"
     },
     "output_type": "display_data"
    }
   ],
   "source": [
    "#deaths\n",
    "a = len(df[df['deaths'] <= 5])\n",
    "b = len(df[df['deaths'] <=10])\n",
    "c = len(df[df['deaths'] <=15])\n",
    "d = len(df['deaths'])\n",
    "\n",
    "x = ['ate 5','5 a 10','10 a 15','15+']\n",
    "y = [a,b-a,c-b,d-c]\n",
    "plt.bar(x, y, label = 'Barrar1', color = 'r')\n",
    "plt.xlabel(\"Faixas\")\n",
    "plt.ylabel(\"Quantidade\")\n",
    "plt.title('Quantidade de deaths por faixa')"
   ]
  },
  {
   "cell_type": "code",
   "execution_count": 105,
   "metadata": {},
   "outputs": [
    {
     "data": {
      "text/plain": [
       "Text(0.5, 1.0, 'Quantidade de assists por faixa')"
      ]
     },
     "execution_count": 105,
     "metadata": {},
     "output_type": "execute_result"
    },
    {
     "data": {
      "image/png": "[encoded data removed]",
      "text/plain": [
       "<Figure size 432x288 with 1 Axes>"
      ]
     },
     "metadata": {
      "needs_background": "light"
     },
     "output_type": "display_data"
    }
   ],
   "source": [
    "#assists\n",
    "a = len(df[df['assists'] <= 5])\n",
    "b = len(df[df['assists'] <=10])\n",
    "c = len(df[df['assists'] <=15])\n",
    "d = len(df['assists'])\n",
    "\n",
    "x = ['ate 5','5 a 10','10 a 15','15+']\n",
    "y = [a,b-a,c-b,d-c]\n",
    "plt.bar(x, y, label = 'Barrar1', color = 'c')\n",
    "plt.xlabel(\"Faixas\")\n",
    "plt.ylabel(\"Quantidade\")\n",
    "plt.title('Quantidade de assists por faixa')"
   ]
  },
  {
   "cell_type": "code",
   "execution_count": 106,
   "metadata": {},
   "outputs": [
    {
     "data": {
      "text/plain": [
       "Text(0.5, 1.0, 'Quantidade de visionscore por faixa')"
      ]
     },
     "execution_count": 106,
     "metadata": {},
     "output_type": "execute_result"
    },
    {
     "data": {
      "image/png": "[encoded data removed]",
      "text/plain": [
       "<Figure size 432x288 with 1 Axes>"
      ]
     },
     "metadata": {
      "needs_background": "light"
     },
     "output_type": "display_data"
    }
   ],
   "source": [
    "#visionscore\n",
    "a = len(df[df['visionscore'] <= 10])\n",
    "b = len(df[df['visionscore'] <=20])\n",
    "c = len(df[df['visionscore'] <=30])\n",
    "d = len(df[df['visionscore'] <=40])\n",
    "e = len(df[df['visionscore'] <=50])\n",
    "f = len(df[df['visionscore'] <=60])\n",
    "g = len(df['visionscore'])\n",
    "\n",
    "\n",
    "x = ['ate 10','10 a 20','20 a 30','30 a 40','40 a 50','50 a 60','60+']\n",
    "y = [a,b-a,c-b,d-c,e-d,f-e,g-f]\n",
    "plt.bar(x, y, label = 'Barrar1', color = 'm')\n",
    "plt.xlabel(\"Faixas\")\n",
    "plt.ylabel(\"Quantidade\")\n",
    "plt.title('Quantidade de visionscore por faixa')"
   ]
  },
  {
   "cell_type": "code",
   "execution_count": 107,
   "metadata": {},
   "outputs": [
    {
     "data": {
      "text/plain": [
       "Text(0.5, 1.0, 'Quantidade de goldearned por faixa')"
      ]
     },
     "execution_count": 107,
     "metadata": {},
     "output_type": "execute_result"
    },
    {
     "data": {
      "image/png": "[encoded data removed]",
      "text/plain": [
       "<Figure size 432x288 with 1 Axes>"
      ]
     },
     "metadata": {
      "needs_background": "light"
     },
     "output_type": "display_data"
    }
   ],
   "source": [
    "#assists\n",
    "a = len(df[df['goldearned'] <= 5000])\n",
    "b = len(df[df['goldearned'] <=10000])\n",
    "c = len(df[df['goldearned'] <=15000])\n",
    "d = len(df[df['goldearned'] <=20000])\n",
    "e = len(df['goldearned'])\n",
    "\n",
    "x = ['ate 5k','5k a 10k','10k a 15k','15k a 20k','20k+']\n",
    "y = [a,b-a,c-b,d-c,e-d]\n",
    "plt.bar(x, y, label = 'Barrar1', color = 'y')\n",
    "plt.xlabel(\"Faixas\")\n",
    "plt.ylabel(\"Quantidade\")\n",
    "plt.title('Quantidade de goldearned por faixa')"
   ]
  },
  {
   "cell_type": "code",
   "execution_count": 108,
   "metadata": {},
   "outputs": [
    {
     "data": {
      "text/plain": [
       "0     0.493784\n",
       "1     0.256230\n",
       "2     0.135730\n",
       "3     0.068278\n",
       "4     0.030078\n",
       "5     0.011268\n",
       "6     0.003467\n",
       "7     0.000921\n",
       "8     0.000203\n",
       "9     0.000036\n",
       "10    0.000006\n",
       "Name: turretkills, dtype: float64"
      ]
     },
     "execution_count": 108,
     "metadata": {},
     "output_type": "execute_result"
    }
   ],
   "source": [
    "#turretkills\n",
    "df['turretkills'].value_counts(normalize=True)\n",
    "#Devido a distribuição desigual dos valores, percebe-se que algum campeão do time, geralmente, tem uma maior tendência a focar em destruir as torres"
   ]
  },
  {
   "cell_type": "code",
   "execution_count": 109,
   "metadata": {},
   "outputs": [
    {
     "data": {
      "text/plain": [
       "0    0.843965\n",
       "1    0.130865\n",
       "2    0.021969\n",
       "3    0.002811\n",
       "4    0.000331\n",
       "5    0.000052\n",
       "6    0.000006\n",
       "7    0.000002\n",
       "Name: inhibkills, dtype: float64"
      ]
     },
     "execution_count": 109,
     "metadata": {},
     "output_type": "execute_result"
    }
   ],
   "source": [
    "#inhibkills\n",
    "df['inhibkills'].value_counts(normalize=True)\n",
    "#Devido a distribuição desigual dos valores, percebe-se que algum campeão do time, geralmente, tem uma maior tendência a focar em destruir os inibidores"
   ]
  },
  {
   "cell_type": "code",
   "execution_count": 110,
   "metadata": {},
   "outputs": [
    {
     "data": {
      "text/plain": [
       "0    0.899614\n",
       "1    0.100386\n",
       "Name: firstblood, dtype: float64"
      ]
     },
     "execution_count": 110,
     "metadata": {},
     "output_type": "execute_result"
    }
   ],
   "source": [
    "#firstblood\n",
    "df['firstblood'].value_counts(normalize=True)\n",
    "#Distribuição naturalmente desigual, já que apenas um jogador por partida consegue este marco (primeiro abate)"
   ]
  },
  {
   "cell_type": "code",
   "execution_count": 111,
   "metadata": {},
   "outputs": [
    {
     "data": {
      "text/plain": [
       "Text(0.5, 1.0, 'Quantidade de farm por faixa')"
      ]
     },
     "execution_count": 111,
     "metadata": {},
     "output_type": "execute_result"
    },
    {
     "data": {
      "image/png": "[encoded data removed]",
      "text/plain": [
       "<Figure size 432x288 with 1 Axes>"
      ]
     },
     "metadata": {
      "needs_background": "light"
     },
     "output_type": "display_data"
    }
   ],
   "source": [
    "#farm\n",
    "a = len(df[df['farm'] <= 50])\n",
    "b = len(df[df['farm'] <=100])\n",
    "c = len(df[df['farm'] <=150])\n",
    "d = len(df[df['farm'] <=200])\n",
    "e = len(df[df['farm'] <=250])\n",
    "f = len(df[df['farm'] <=300])\n",
    "g = len(df['farm'])\n",
    "\n",
    "x = ['ate 50','50 a 100','100 a 150','150 a 200','200 a 250','250 a 300','300+']\n",
    "y = [a,b-a,c-b,d-c,e-d,f-e,g-f]\n",
    "plt.barh(x, y, label = 'Barrar1', color = 'b')\n",
    "plt.ylabel(\"Faixas\")\n",
    "plt.xlabel(\"Quantidade\")\n",
    "plt.title('Quantidade de farm por faixa')"
   ]
  },
  {
   "cell_type": "code",
   "execution_count": 112,
   "metadata": {},
   "outputs": [
    {
     "data": {
      "text/plain": [
       "0    0.635148\n",
       "1    0.309279\n",
       "2    0.052085\n",
       "3    0.003489\n",
       "Name: baronkills, dtype: float64"
      ]
     },
     "execution_count": 112,
     "metadata": {},
     "output_type": "execute_result"
    }
   ],
   "source": [
    "#baronkills\n",
    "df['baronkills'].value_counts(normalize=True)\n",
    "#Raros os caso de o jogo se estender o suficiente para que dois barões sejam executados, ainda assim a maioria não chega a fazer o barão"
   ]
  },
  {
   "cell_type": "code",
   "execution_count": 113,
   "metadata": {},
   "outputs": [
    {
     "data": {
      "text/plain": [
       "0    0.271355\n",
       "2    0.257427\n",
       "1    0.257089\n",
       "3    0.157059\n",
       "4    0.048934\n",
       "5    0.008136\n",
       "Name: dragonkills, dtype: float64"
      ]
     },
     "execution_count": 113,
     "metadata": {},
     "output_type": "execute_result"
    }
   ],
   "source": [
    "#dragonkills\n",
    "df['dragonkills'].value_counts(normalize=True)\n",
    "#Objetivo bem aproveitado pelos jogadores"
   ]
  },
  {
   "cell_type": "code",
   "execution_count": 114,
   "metadata": {},
   "outputs": [
    {
     "data": {
      "text/plain": [
       "0    0.765701\n",
       "1    0.234299\n",
       "Name: harrykills, dtype: float64"
      ]
     },
     "execution_count": 114,
     "metadata": {},
     "output_type": "execute_result"
    }
   ],
   "source": [
    "#harrykills\n",
    "df['harrykills'].value_counts(normalize=True)\n",
    "#Objetivo mal aproveitado pelos jogadores, 3/4 dos jogos é ignorado"
   ]
  },
  {
   "cell_type": "markdown",
   "metadata": {},
   "source": [
    "#### 4.2) **(20%)** Análise 2 - Dependência entre variáveis\n",
    "O aluno deve apresentar as mesmas distribuições para cada valor da variável dependente. Exemplo: Em um conjunto de dados em que as variáveis independentes são idade e sexo, e a variável dependente é renda. O aluno pode dividir a renda em 3 \"grupos\", <1000 reais, entre 1000 e 10000 reais e >1000 reais. Para cada um desses grupos, é necessário apresentar a distribuição das variáveis \"idade\" e \"sexo\".\n"
   ]
  },
  {
   "cell_type": "code",
   "execution_count": 115,
   "metadata": {},
   "outputs": [
    {
     "data": {
      "text/plain": [
       "[<matplotlib.lines.Line2D at 0x16f8235bba8>]"
      ]
     },
     "execution_count": 115,
     "metadata": {},
     "output_type": "execute_result"
    },
    {
     "data": {
      "image/png": "[encoded data removed]",
      "text/plain": [
       "<Figure size 432x288 with 1 Axes>"
      ]
     },
     "metadata": {
      "needs_background": "light"
     },
     "output_type": "display_data"
    }
   ],
   "source": [
    "df_kills_win = df[df['win'] == 1]\n",
    "plt.plot(df_kills_win['kills'])"
   ]
  },
  {
   "cell_type": "code",
   "execution_count": 116,
   "metadata": {},
   "outputs": [
    {
     "data": {
      "text/plain": [
       "[<matplotlib.lines.Line2D at 0x16f823be6d8>]"
      ]
     },
     "execution_count": 116,
     "metadata": {},
     "output_type": "execute_result"
    },
    {
     "data": {
      "image/png": "[encoded data removed]",
      "text/plain": [
       "<Figure size 432x288 with 1 Axes>"
      ]
     },
     "metadata": {
      "needs_background": "light"
     },
     "output_type": "display_data"
    }
   ],
   "source": [
    "df_kills_lose = df[df['win'] == 0]\n",
    "plt.plot(df_kills_lose['kills'])"
   ]
  },
  {
   "cell_type": "code",
   "execution_count": 117,
   "metadata": {},
   "outputs": [
    {
     "data": {
      "text/plain": [
       "[<matplotlib.lines.Line2D at 0x16f824270b8>]"
      ]
     },
     "execution_count": 117,
     "metadata": {},
     "output_type": "execute_result"
    },
    {
     "data": {
      "image/png": "[encoded data removed]",
      "text/plain": [
       "<Figure size 432x288 with 1 Axes>"
      ]
     },
     "metadata": {
      "needs_background": "light"
     },
     "output_type": "display_data"
    }
   ],
   "source": [
    "df_deaths_win = df[df['win'] == 1]\n",
    "plt.plot(df_deaths_win['deaths'])"
   ]
  },
  {
   "cell_type": "code",
   "execution_count": 118,
   "metadata": {},
   "outputs": [
    {
     "data": {
      "text/plain": [
       "[<matplotlib.lines.Line2D at 0x16f82487550>]"
      ]
     },
     "execution_count": 118,
     "metadata": {},
     "output_type": "execute_result"
    },
    {
     "data": {
      "image/png": "[encoded data removed]",
      "text/plain": [
       "<Figure size 432x288 with 1 Axes>"
      ]
     },
     "metadata": {
      "needs_background": "light"
     },
     "output_type": "display_data"
    }
   ],
   "source": [
    "df_deaths_lose = df[df['win'] == 0]\n",
    "plt.plot(df_deaths_lose['deaths'])"
   ]
  },
  {
   "cell_type": "code",
   "execution_count": 119,
   "metadata": {},
   "outputs": [
    {
     "data": {
      "text/plain": [
       "[<matplotlib.lines.Line2D at 0x16f85729f28>]"
      ]
     },
     "execution_count": 119,
     "metadata": {},
     "output_type": "execute_result"
    },
    {
     "data": {
      "image/png": "[encoded data removed]",
      "text/plain": [
       "<Figure size 432x288 with 1 Axes>"
      ]
     },
     "metadata": {
      "needs_background": "light"
     },
     "output_type": "display_data"
    }
   ],
   "source": [
    "df_assists_win = df[df['win'] == 1]\n",
    "plt.plot(df_assists_win['assists'])"
   ]
  },
  {
   "cell_type": "code",
   "execution_count": 120,
   "metadata": {},
   "outputs": [
    {
     "data": {
      "text/plain": [
       "[<matplotlib.lines.Line2D at 0x16f82510eb8>]"
      ]
     },
     "execution_count": 120,
     "metadata": {},
     "output_type": "execute_result"
    },
    {
     "data": {
      "image/png": "[encoded data removed]",
      "text/plain": [
       "<Figure size 432x288 with 1 Axes>"
      ]
     },
     "metadata": {
      "needs_background": "light"
     },
     "output_type": "display_data"
    }
   ],
   "source": [
    "df_assists_lose = df[df['win'] == 0]\n",
    "plt.plot(df_assists_lose['assists'])"
   ]
  },
  {
   "cell_type": "code",
   "execution_count": 121,
   "metadata": {},
   "outputs": [
    {
     "data": {
      "text/plain": [
       "[<matplotlib.lines.Line2D at 0x16f82576e10>]"
      ]
     },
     "execution_count": 121,
     "metadata": {},
     "output_type": "execute_result"
    },
    {
     "data": {
      "image/png": "[encoded data removed]",
      "text/plain": [
       "<Figure size 432x288 with 1 Axes>"
      ]
     },
     "metadata": {
      "needs_background": "light"
     },
     "output_type": "display_data"
    }
   ],
   "source": [
    "df_visionscore_win = df[df['win'] == 1]\n",
    "plt.plot(df_visionscore_win['visionscore'])"
   ]
  },
  {
   "cell_type": "code",
   "execution_count": 122,
   "metadata": {},
   "outputs": [
    {
     "data": {
      "text/plain": [
       "[<matplotlib.lines.Line2D at 0x16f825ddda0>]"
      ]
     },
     "execution_count": 122,
     "metadata": {},
     "output_type": "execute_result"
    },
    {
     "data": {
      "image/png": "[encoded data removed]",
      "text/plain": [
       "<Figure size 432x288 with 1 Axes>"
      ]
     },
     "metadata": {
      "needs_background": "light"
     },
     "output_type": "display_data"
    }
   ],
   "source": [
    "df_visionscore_lose = df[df['win'] == 0]\n",
    "plt.plot(df_visionscore_lose['visionscore'])"
   ]
  },
  {
   "cell_type": "code",
   "execution_count": 123,
   "metadata": {},
   "outputs": [
    {
     "data": {
      "text/plain": [
       "[<matplotlib.lines.Line2D at 0x16f82642d30>]"
      ]
     },
     "execution_count": 123,
     "metadata": {},
     "output_type": "execute_result"
    },
    {
     "data": {
      "image/png": "[encoded data removed]",
      "text/plain": [
       "<Figure size 432x288 with 1 Axes>"
      ]
     },
     "metadata": {
      "needs_background": "light"
     },
     "output_type": "display_data"
    }
   ],
   "source": [
    "df_goldearned_win = df[df['win'] == 1]\n",
    "plt.plot(df_goldearned_win['goldearned'])"
   ]
  },
  {
   "cell_type": "code",
   "execution_count": 124,
   "metadata": {},
   "outputs": [
    {
     "data": {
      "text/plain": [
       "[<matplotlib.lines.Line2D at 0x16f826b4278>]"
      ]
     },
     "execution_count": 124,
     "metadata": {},
     "output_type": "execute_result"
    },
    {
     "data": {
      "image/png": "[encoded data removed]",
      "text/plain": [
       "<Figure size 432x288 with 1 Axes>"
      ]
     },
     "metadata": {
      "needs_background": "light"
     },
     "output_type": "display_data"
    }
   ],
   "source": [
    "df_goldearned_lose = df[df['win'] == 0]\n",
    "plt.plot(df_goldearned_lose['goldearned'])"
   ]
  },
  {
   "cell_type": "code",
   "execution_count": 125,
   "metadata": {},
   "outputs": [
    {
     "data": {
      "text/plain": [
       "[<matplotlib.lines.Line2D at 0x16f82713780>]"
      ]
     },
     "execution_count": 125,
     "metadata": {},
     "output_type": "execute_result"
    },
    {
     "data": {
      "image/png": "[encoded data removed]",
      "text/plain": [
       "<Figure size 432x288 with 1 Axes>"
      ]
     },
     "metadata": {
      "needs_background": "light"
     },
     "output_type": "display_data"
    }
   ],
   "source": [
    "df_turretkills_win = df[df['win'] == 1]\n",
    "plt.plot(df_turretkills_win['turretkills'])"
   ]
  },
  {
   "cell_type": "code",
   "execution_count": 126,
   "metadata": {},
   "outputs": [
    {
     "data": {
      "text/plain": [
       "[<matplotlib.lines.Line2D at 0x16f82778630>]"
      ]
     },
     "execution_count": 126,
     "metadata": {},
     "output_type": "execute_result"
    },
    {
     "data": {
      "image/png": "[encoded data removed]",
      "text/plain": [
       "<Figure size 432x288 with 1 Axes>"
      ]
     },
     "metadata": {
      "needs_background": "light"
     },
     "output_type": "display_data"
    }
   ],
   "source": [
    "df_turretkills_lose = df[df['win'] == 0]\n",
    "plt.plot(df_turretkills_lose['turretkills'])"
   ]
  },
  {
   "cell_type": "code",
   "execution_count": 127,
   "metadata": {},
   "outputs": [
    {
     "data": {
      "text/plain": [
       "[<matplotlib.lines.Line2D at 0x16f827e93c8>]"
      ]
     },
     "execution_count": 127,
     "metadata": {},
     "output_type": "execute_result"
    },
    {
     "data": {
      "image/png": "[encoded data removed]",
      "text/plain": [
       "<Figure size 432x288 with 1 Axes>"
      ]
     },
     "metadata": {
      "needs_background": "light"
     },
     "output_type": "display_data"
    }
   ],
   "source": [
    "df_inhibkills_win = df[df['win'] == 1]\n",
    "plt.plot(df_inhibkills_win['inhibkills'])"
   ]
  },
  {
   "cell_type": "code",
   "execution_count": 128,
   "metadata": {},
   "outputs": [
    {
     "data": {
      "text/plain": [
       "[<matplotlib.lines.Line2D at 0x16f8284cc18>]"
      ]
     },
     "execution_count": 128,
     "metadata": {},
     "output_type": "execute_result"
    },
    {
     "data": {
      "image/png": "[encoded data removed]",
      "text/plain": [
       "<Figure size 432x288 with 1 Axes>"
      ]
     },
     "metadata": {
      "needs_background": "light"
     },
     "output_type": "display_data"
    }
   ],
   "source": [
    "df_inhibkills_lose = df[df['win'] == 0]\n",
    "plt.plot(df_inhibkills_lose['inhibkills'])"
   ]
  },
  {
   "cell_type": "code",
   "execution_count": 129,
   "metadata": {},
   "outputs": [
    {
     "data": {
      "text/plain": [
       "[<matplotlib.lines.Line2D at 0x16f8577a4a8>]"
      ]
     },
     "execution_count": 129,
     "metadata": {},
     "output_type": "execute_result"
    },
    {
     "data": {
      "image/png": "[encoded data removed]",
      "text/plain": [
       "<Figure size 432x288 with 1 Axes>"
      ]
     },
     "metadata": {
      "needs_background": "light"
     },
     "output_type": "display_data"
    }
   ],
   "source": [
    "df_firstblood_win = df[df['win'] == 1]\n",
    "plt.plot(df_firstblood_win['firstblood'])"
   ]
  },
  {
   "cell_type": "code",
   "execution_count": 130,
   "metadata": {},
   "outputs": [
    {
     "data": {
      "text/plain": [
       "[<matplotlib.lines.Line2D at 0x16f828df470>]"
      ]
     },
     "execution_count": 130,
     "metadata": {},
     "output_type": "execute_result"
    },
    {
     "data": {
      "image/png": "[encoded data removed]",
      "text/plain": [
       "<Figure size 432x288 with 1 Axes>"
      ]
     },
     "metadata": {
      "needs_background": "light"
     },
     "output_type": "display_data"
    }
   ],
   "source": [
    "df_firstblood_lose = df[df['win'] == 0]\n",
    "plt.plot(df_firstblood_lose['firstblood'])"
   ]
  },
  {
   "cell_type": "code",
   "execution_count": 131,
   "metadata": {},
   "outputs": [
    {
     "data": {
      "text/plain": [
       "[<matplotlib.lines.Line2D at 0x16f82942470>]"
      ]
     },
     "execution_count": 131,
     "metadata": {},
     "output_type": "execute_result"
    },
    {
     "data": {
      "image/png": "[encoded data removed]",
      "text/plain": [
       "<Figure size 432x288 with 1 Axes>"
      ]
     },
     "metadata": {
      "needs_background": "light"
     },
     "output_type": "display_data"
    }
   ],
   "source": [
    "df_farm_win = df[df['win'] == 1]\n",
    "plt.plot(df_farm_win['farm'])"
   ]
  },
  {
   "cell_type": "code",
   "execution_count": 132,
   "metadata": {},
   "outputs": [
    {
     "data": {
      "text/plain": [
       "[<matplotlib.lines.Line2D at 0x16f829b1400>]"
      ]
     },
     "execution_count": 132,
     "metadata": {},
     "output_type": "execute_result"
    },
    {
     "data": {
      "image/png": "[encoded data removed]",
      "text/plain": [
       "<Figure size 432x288 with 1 Axes>"
      ]
     },
     "metadata": {
      "needs_background": "light"
     },
     "output_type": "display_data"
    }
   ],
   "source": [
    "df_farm_lose = df[df['win'] == 0]\n",
    "plt.plot(df_farm_lose['farm'])"
   ]
  },
  {
   "cell_type": "code",
   "execution_count": 133,
   "metadata": {},
   "outputs": [
    {
     "data": {
      "text/plain": [
       "[<matplotlib.lines.Line2D at 0x16f82a1b358>]"
      ]
     },
     "execution_count": 133,
     "metadata": {},
     "output_type": "execute_result"
    },
    {
     "data": {
      "image/png": "[encoded data removed]",
      "text/plain": [
       "<Figure size 432x288 with 1 Axes>"
      ]
     },
     "metadata": {
      "needs_background": "light"
     },
     "output_type": "display_data"
    }
   ],
   "source": [
    "df_baronkills_win = df[df['win'] == 1]\n",
    "plt.plot(df_baronkills_win['baronkills'])"
   ]
  },
  {
   "cell_type": "code",
   "execution_count": 134,
   "metadata": {},
   "outputs": [
    {
     "data": {
      "text/plain": [
       "[<matplotlib.lines.Line2D at 0x16f82a7c4e0>]"
      ]
     },
     "execution_count": 134,
     "metadata": {},
     "output_type": "execute_result"
    },
    {
     "data": {
      "image/png": "[encoded data removed]",
      "text/plain": [
       "<Figure size 432x288 with 1 Axes>"
      ]
     },
     "metadata": {
      "needs_background": "light"
     },
     "output_type": "display_data"
    }
   ],
   "source": [
    "df_baronkills_lose = df[df['win'] == 0]\n",
    "plt.plot(df_baronkills_lose['baronkills'])"
   ]
  },
  {
   "cell_type": "code",
   "execution_count": 135,
   "metadata": {},
   "outputs": [
    {
     "data": {
      "text/plain": [
       "[<matplotlib.lines.Line2D at 0x16f82ade9e8>]"
      ]
     },
     "execution_count": 135,
     "metadata": {},
     "output_type": "execute_result"
    },
    {
     "data": {
      "image/png": "[encoded data removed]",
      "text/plain": [
       "<Figure size 432x288 with 1 Axes>"
      ]
     },
     "metadata": {
      "needs_background": "light"
     },
     "output_type": "display_data"
    }
   ],
   "source": [
    "df_dragonkills_win = df[df['win'] == 1]\n",
    "plt.plot(df_dragonkills_win['dragonkills'])"
   ]
  },
  {
   "cell_type": "code",
   "execution_count": 136,
   "metadata": {},
   "outputs": [
    {
     "data": {
      "text/plain": [
       "[<matplotlib.lines.Line2D at 0x16f82b44828>]"
      ]
     },
     "execution_count": 136,
     "metadata": {},
     "output_type": "execute_result"
    },
    {
     "data": {
      "image/png": "[encoded data removed]",
      "text/plain": [
       "<Figure size 432x288 with 1 Axes>"
      ]
     },
     "metadata": {
      "needs_background": "light"
     },
     "output_type": "display_data"
    }
   ],
   "source": [
    "df_dragonkills_lose = df[df['win'] == 0]\n",
    "plt.plot(df_dragonkills_lose['dragonkills'])"
   ]
  },
  {
   "cell_type": "code",
   "execution_count": 137,
   "metadata": {},
   "outputs": [
    {
     "data": {
      "text/plain": [
       "[<matplotlib.lines.Line2D at 0x16f82ba8668>]"
      ]
     },
     "execution_count": 137,
     "metadata": {},
     "output_type": "execute_result"
    },
    {
     "data": {
      "image/png": "[encoded data removed]",
      "text/plain": [
       "<Figure size 432x288 with 1 Axes>"
      ]
     },
     "metadata": {
      "needs_background": "light"
     },
     "output_type": "display_data"
    }
   ],
   "source": [
    "df_harrykills_win = df[df['win'] == 1]\n",
    "plt.plot(df_harrykills_win['harrykills'])"
   ]
  },
  {
   "cell_type": "code",
   "execution_count": 138,
   "metadata": {},
   "outputs": [
    {
     "data": {
      "text/plain": [
       "[<matplotlib.lines.Line2D at 0x16f82c10630>]"
      ]
     },
     "execution_count": 138,
     "metadata": {},
     "output_type": "execute_result"
    },
    {
     "data": {
      "image/png": "[encoded data removed]",
      "text/plain": [
       "<Figure size 432x288 with 1 Axes>"
      ]
     },
     "metadata": {
      "needs_background": "light"
     },
     "output_type": "display_data"
    }
   ],
   "source": [
    "df_harrykills_lose = df[df['win'] == 0]\n",
    "plt.plot(df_harrykills_lose['harrykills'])"
   ]
  },
  {
   "cell_type": "markdown",
   "metadata": {},
   "source": [
    "#### 4.3) **(20%)** Análise 3 - Correlação entre variáveis\n",
    "\n",
    "O aluno deve apresentar 3 análises de correlação entre variáveis do conjunto de dados trabalhado. Exemplo: Em um conjunto de dados com as informações de temperatura e ocorrência de incêndios, eu gostaria de saber a incidência de correlação entre as duas variáveis.\n",
    "\n"
   ]
  },
  {
   "cell_type": "code",
   "execution_count": 139,
   "metadata": {},
   "outputs": [
    {
     "data": {
      "text/html": [
       "<style  type=\"text/css\" >\n",
       "    #T_f97ed850_17c5_11ea_8147_b42e994941fcrow0_col0 {\n",
       "            background-color:  #b40426;\n",
       "            color:  #f1f1f1;\n",
       "        }    #T_f97ed850_17c5_11ea_8147_b42e994941fcrow0_col1 {\n",
       "            background-color:  #d6dce4;\n",
       "            color:  #000000;\n",
       "        }    #T_f97ed850_17c5_11ea_8147_b42e994941fcrow0_col2 {\n",
       "            background-color:  #3b4cc0;\n",
       "            color:  #f1f1f1;\n",
       "        }    #T_f97ed850_17c5_11ea_8147_b42e994941fcrow0_col3 {\n",
       "            background-color:  #dfdbd9;\n",
       "            color:  #000000;\n",
       "        }    #T_f97ed850_17c5_11ea_8147_b42e994941fcrow0_col4 {\n",
       "            background-color:  #a5c3fe;\n",
       "            color:  #000000;\n",
       "        }    #T_f97ed850_17c5_11ea_8147_b42e994941fcrow0_col5 {\n",
       "            background-color:  #dddcdc;\n",
       "            color:  #000000;\n",
       "        }    #T_f97ed850_17c5_11ea_8147_b42e994941fcrow0_col6 {\n",
       "            background-color:  #efcebd;\n",
       "            color:  #000000;\n",
       "        }    #T_f97ed850_17c5_11ea_8147_b42e994941fcrow0_col7 {\n",
       "            background-color:  #e2dad5;\n",
       "            color:  #000000;\n",
       "        }    #T_f97ed850_17c5_11ea_8147_b42e994941fcrow0_col8 {\n",
       "            background-color:  #a7c5fe;\n",
       "            color:  #000000;\n",
       "        }    #T_f97ed850_17c5_11ea_8147_b42e994941fcrow0_col9 {\n",
       "            background-color:  #a7c5fe;\n",
       "            color:  #000000;\n",
       "        }    #T_f97ed850_17c5_11ea_8147_b42e994941fcrow0_col10 {\n",
       "            background-color:  #efcebd;\n",
       "            color:  #000000;\n",
       "        }    #T_f97ed850_17c5_11ea_8147_b42e994941fcrow0_col11 {\n",
       "            background-color:  #f7bca1;\n",
       "            color:  #000000;\n",
       "        }    #T_f97ed850_17c5_11ea_8147_b42e994941fcrow0_col12 {\n",
       "            background-color:  #cdd9ec;\n",
       "            color:  #000000;\n",
       "        }    #T_f97ed850_17c5_11ea_8147_b42e994941fcrow1_col0 {\n",
       "            background-color:  #9ebeff;\n",
       "            color:  #000000;\n",
       "        }    #T_f97ed850_17c5_11ea_8147_b42e994941fcrow1_col1 {\n",
       "            background-color:  #b40426;\n",
       "            color:  #f1f1f1;\n",
       "        }    #T_f97ed850_17c5_11ea_8147_b42e994941fcrow1_col2 {\n",
       "            background-color:  #6a8bef;\n",
       "            color:  #000000;\n",
       "        }    #T_f97ed850_17c5_11ea_8147_b42e994941fcrow1_col3 {\n",
       "            background-color:  #506bda;\n",
       "            color:  #000000;\n",
       "        }    #T_f97ed850_17c5_11ea_8147_b42e994941fcrow1_col4 {\n",
       "            background-color:  #3b4cc0;\n",
       "            color:  #f1f1f1;\n",
       "        }    #T_f97ed850_17c5_11ea_8147_b42e994941fcrow1_col5 {\n",
       "            background-color:  #f59f80;\n",
       "            color:  #000000;\n",
       "        }    #T_f97ed850_17c5_11ea_8147_b42e994941fcrow1_col6 {\n",
       "            background-color:  #c9d7f0;\n",
       "            color:  #000000;\n",
       "        }    #T_f97ed850_17c5_11ea_8147_b42e994941fcrow1_col7 {\n",
       "            background-color:  #9bbcff;\n",
       "            color:  #000000;\n",
       "        }    #T_f97ed850_17c5_11ea_8147_b42e994941fcrow1_col8 {\n",
       "            background-color:  #85a8fc;\n",
       "            color:  #000000;\n",
       "        }    #T_f97ed850_17c5_11ea_8147_b42e994941fcrow1_col9 {\n",
       "            background-color:  #e3d9d3;\n",
       "            color:  #000000;\n",
       "        }    #T_f97ed850_17c5_11ea_8147_b42e994941fcrow1_col10 {\n",
       "            background-color:  #96b7ff;\n",
       "            color:  #000000;\n",
       "        }    #T_f97ed850_17c5_11ea_8147_b42e994941fcrow1_col11 {\n",
       "            background-color:  #a3c2fe;\n",
       "            color:  #000000;\n",
       "        }    #T_f97ed850_17c5_11ea_8147_b42e994941fcrow1_col12 {\n",
       "            background-color:  #5673e0;\n",
       "            color:  #000000;\n",
       "        }    #T_f97ed850_17c5_11ea_8147_b42e994941fcrow2_col0 {\n",
       "            background-color:  #3b4cc0;\n",
       "            color:  #f1f1f1;\n",
       "        }    #T_f97ed850_17c5_11ea_8147_b42e994941fcrow2_col1 {\n",
       "            background-color:  #b5cdfa;\n",
       "            color:  #000000;\n",
       "        }    #T_f97ed850_17c5_11ea_8147_b42e994941fcrow2_col2 {\n",
       "            background-color:  #b40426;\n",
       "            color:  #f1f1f1;\n",
       "        }    #T_f97ed850_17c5_11ea_8147_b42e994941fcrow2_col3 {\n",
       "            background-color:  #aec9fc;\n",
       "            color:  #000000;\n",
       "        }    #T_f97ed850_17c5_11ea_8147_b42e994941fcrow2_col4 {\n",
       "            background-color:  #9fbfff;\n",
       "            color:  #000000;\n",
       "        }    #T_f97ed850_17c5_11ea_8147_b42e994941fcrow2_col5 {\n",
       "            background-color:  #d6dce4;\n",
       "            color:  #000000;\n",
       "        }    #T_f97ed850_17c5_11ea_8147_b42e994941fcrow2_col6 {\n",
       "            background-color:  #7699f6;\n",
       "            color:  #000000;\n",
       "        }    #T_f97ed850_17c5_11ea_8147_b42e994941fcrow2_col7 {\n",
       "            background-color:  #82a6fb;\n",
       "            color:  #000000;\n",
       "        }    #T_f97ed850_17c5_11ea_8147_b42e994941fcrow2_col8 {\n",
       "            background-color:  #96b7ff;\n",
       "            color:  #000000;\n",
       "        }    #T_f97ed850_17c5_11ea_8147_b42e994941fcrow2_col9 {\n",
       "            background-color:  #b9d0f9;\n",
       "            color:  #000000;\n",
       "        }    #T_f97ed850_17c5_11ea_8147_b42e994941fcrow2_col10 {\n",
       "            background-color:  #a2c1ff;\n",
       "            color:  #000000;\n",
       "        }    #T_f97ed850_17c5_11ea_8147_b42e994941fcrow2_col11 {\n",
       "            background-color:  #88abfd;\n",
       "            color:  #000000;\n",
       "        }    #T_f97ed850_17c5_11ea_8147_b42e994941fcrow2_col12 {\n",
       "            background-color:  #7699f6;\n",
       "            color:  #000000;\n",
       "        }    #T_f97ed850_17c5_11ea_8147_b42e994941fcrow3_col0 {\n",
       "            background-color:  #c6d6f1;\n",
       "            color:  #000000;\n",
       "        }    #T_f97ed850_17c5_11ea_8147_b42e994941fcrow3_col1 {\n",
       "            background-color:  #7597f6;\n",
       "            color:  #000000;\n",
       "        }    #T_f97ed850_17c5_11ea_8147_b42e994941fcrow3_col2 {\n",
       "            background-color:  #84a7fc;\n",
       "            color:  #000000;\n",
       "        }    #T_f97ed850_17c5_11ea_8147_b42e994941fcrow3_col3 {\n",
       "            background-color:  #b40426;\n",
       "            color:  #f1f1f1;\n",
       "        }    #T_f97ed850_17c5_11ea_8147_b42e994941fcrow3_col4 {\n",
       "            background-color:  #bcd2f7;\n",
       "            color:  #000000;\n",
       "        }    #T_f97ed850_17c5_11ea_8147_b42e994941fcrow3_col5 {\n",
       "            background-color:  #d6dce4;\n",
       "            color:  #000000;\n",
       "        }    #T_f97ed850_17c5_11ea_8147_b42e994941fcrow3_col6 {\n",
       "            background-color:  #7295f4;\n",
       "            color:  #000000;\n",
       "        }    #T_f97ed850_17c5_11ea_8147_b42e994941fcrow3_col7 {\n",
       "            background-color:  #81a4fb;\n",
       "            color:  #000000;\n",
       "        }    #T_f97ed850_17c5_11ea_8147_b42e994941fcrow3_col8 {\n",
       "            background-color:  #5e7de7;\n",
       "            color:  #000000;\n",
       "        }    #T_f97ed850_17c5_11ea_8147_b42e994941fcrow3_col9 {\n",
       "            background-color:  #3b4cc0;\n",
       "            color:  #f1f1f1;\n",
       "        }    #T_f97ed850_17c5_11ea_8147_b42e994941fcrow3_col10 {\n",
       "            background-color:  #cfdaea;\n",
       "            color:  #000000;\n",
       "        }    #T_f97ed850_17c5_11ea_8147_b42e994941fcrow3_col11 {\n",
       "            background-color:  #cdd9ec;\n",
       "            color:  #000000;\n",
       "        }    #T_f97ed850_17c5_11ea_8147_b42e994941fcrow3_col12 {\n",
       "            background-color:  #7597f6;\n",
       "            color:  #000000;\n",
       "        }    #T_f97ed850_17c5_11ea_8147_b42e994941fcrow4_col0 {\n",
       "            background-color:  #6f92f3;\n",
       "            color:  #000000;\n",
       "        }    #T_f97ed850_17c5_11ea_8147_b42e994941fcrow4_col1 {\n",
       "            background-color:  #5470de;\n",
       "            color:  #000000;\n",
       "        }    #T_f97ed850_17c5_11ea_8147_b42e994941fcrow4_col2 {\n",
       "            background-color:  #688aef;\n",
       "            color:  #000000;\n",
       "        }    #T_f97ed850_17c5_11ea_8147_b42e994941fcrow4_col3 {\n",
       "            background-color:  #b6cefa;\n",
       "            color:  #000000;\n",
       "        }    #T_f97ed850_17c5_11ea_8147_b42e994941fcrow4_col4 {\n",
       "            background-color:  #b40426;\n",
       "            color:  #f1f1f1;\n",
       "        }    #T_f97ed850_17c5_11ea_8147_b42e994941fcrow4_col5 {\n",
       "            background-color:  #86a9fc;\n",
       "            color:  #000000;\n",
       "        }    #T_f97ed850_17c5_11ea_8147_b42e994941fcrow4_col6 {\n",
       "            background-color:  #5572df;\n",
       "            color:  #000000;\n",
       "        }    #T_f97ed850_17c5_11ea_8147_b42e994941fcrow4_col7 {\n",
       "            background-color:  #6180e9;\n",
       "            color:  #000000;\n",
       "        }    #T_f97ed850_17c5_11ea_8147_b42e994941fcrow4_col8 {\n",
       "            background-color:  #5b7ae5;\n",
       "            color:  #000000;\n",
       "        }    #T_f97ed850_17c5_11ea_8147_b42e994941fcrow4_col9 {\n",
       "            background-color:  #3b4cc0;\n",
       "            color:  #f1f1f1;\n",
       "        }    #T_f97ed850_17c5_11ea_8147_b42e994941fcrow4_col10 {\n",
       "            background-color:  #8fb1fe;\n",
       "            color:  #000000;\n",
       "        }    #T_f97ed850_17c5_11ea_8147_b42e994941fcrow4_col11 {\n",
       "            background-color:  #88abfd;\n",
       "            color:  #000000;\n",
       "        }    #T_f97ed850_17c5_11ea_8147_b42e994941fcrow4_col12 {\n",
       "            background-color:  #88abfd;\n",
       "            color:  #000000;\n",
       "        }    #T_f97ed850_17c5_11ea_8147_b42e994941fcrow5_col0 {\n",
       "            background-color:  #94b6ff;\n",
       "            color:  #000000;\n",
       "        }    #T_f97ed850_17c5_11ea_8147_b42e994941fcrow5_col1 {\n",
       "            background-color:  #f7a98b;\n",
       "            color:  #000000;\n",
       "        }    #T_f97ed850_17c5_11ea_8147_b42e994941fcrow5_col2 {\n",
       "            background-color:  #84a7fc;\n",
       "            color:  #000000;\n",
       "        }    #T_f97ed850_17c5_11ea_8147_b42e994941fcrow5_col3 {\n",
       "            background-color:  #afcafc;\n",
       "            color:  #000000;\n",
       "        }    #T_f97ed850_17c5_11ea_8147_b42e994941fcrow5_col4 {\n",
       "            background-color:  #536edd;\n",
       "            color:  #000000;\n",
       "        }    #T_f97ed850_17c5_11ea_8147_b42e994941fcrow5_col5 {\n",
       "            background-color:  #b40426;\n",
       "            color:  #f1f1f1;\n",
       "        }    #T_f97ed850_17c5_11ea_8147_b42e994941fcrow5_col6 {\n",
       "            background-color:  #c4d5f3;\n",
       "            color:  #000000;\n",
       "        }    #T_f97ed850_17c5_11ea_8147_b42e994941fcrow5_col7 {\n",
       "            background-color:  #93b5fe;\n",
       "            color:  #000000;\n",
       "        }    #T_f97ed850_17c5_11ea_8147_b42e994941fcrow5_col8 {\n",
       "            background-color:  #4a63d3;\n",
       "            color:  #f1f1f1;\n",
       "        }    #T_f97ed850_17c5_11ea_8147_b42e994941fcrow5_col9 {\n",
       "            background-color:  #f7b89c;\n",
       "            color:  #000000;\n",
       "        }    #T_f97ed850_17c5_11ea_8147_b42e994941fcrow5_col10 {\n",
       "            background-color:  #d8dce2;\n",
       "            color:  #000000;\n",
       "        }    #T_f97ed850_17c5_11ea_8147_b42e994941fcrow5_col11 {\n",
       "            background-color:  #d2dbe8;\n",
       "            color:  #000000;\n",
       "        }    #T_f97ed850_17c5_11ea_8147_b42e994941fcrow5_col12 {\n",
       "            background-color:  #3b4cc0;\n",
       "            color:  #f1f1f1;\n",
       "        }    #T_f97ed850_17c5_11ea_8147_b42e994941fcrow6_col0 {\n",
       "            background-color:  #dadce0;\n",
       "            color:  #000000;\n",
       "        }    #T_f97ed850_17c5_11ea_8147_b42e994941fcrow6_col1 {\n",
       "            background-color:  #d6dce4;\n",
       "            color:  #000000;\n",
       "        }    #T_f97ed850_17c5_11ea_8147_b42e994941fcrow6_col2 {\n",
       "            background-color:  #3b4cc0;\n",
       "            color:  #f1f1f1;\n",
       "        }    #T_f97ed850_17c5_11ea_8147_b42e994941fcrow6_col3 {\n",
       "            background-color:  #688aef;\n",
       "            color:  #000000;\n",
       "        }    #T_f97ed850_17c5_11ea_8147_b42e994941fcrow6_col4 {\n",
       "            background-color:  #5572df;\n",
       "            color:  #000000;\n",
       "        }    #T_f97ed850_17c5_11ea_8147_b42e994941fcrow6_col5 {\n",
       "            background-color:  #dfdbd9;\n",
       "            color:  #000000;\n",
       "        }    #T_f97ed850_17c5_11ea_8147_b42e994941fcrow6_col6 {\n",
       "            background-color:  #b40426;\n",
       "            color:  #f1f1f1;\n",
       "        }    #T_f97ed850_17c5_11ea_8147_b42e994941fcrow6_col7 {\n",
       "            background-color:  #cedaeb;\n",
       "            color:  #000000;\n",
       "        }    #T_f97ed850_17c5_11ea_8147_b42e994941fcrow6_col8 {\n",
       "            background-color:  #7a9df8;\n",
       "            color:  #000000;\n",
       "        }    #T_f97ed850_17c5_11ea_8147_b42e994941fcrow6_col9 {\n",
       "            background-color:  #d8dce2;\n",
       "            color:  #000000;\n",
       "        }    #T_f97ed850_17c5_11ea_8147_b42e994941fcrow6_col10 {\n",
       "            background-color:  #aac7fd;\n",
       "            color:  #000000;\n",
       "        }    #T_f97ed850_17c5_11ea_8147_b42e994941fcrow6_col11 {\n",
       "            background-color:  #bed2f6;\n",
       "            color:  #000000;\n",
       "        }    #T_f97ed850_17c5_11ea_8147_b42e994941fcrow6_col12 {\n",
       "            background-color:  #89acfd;\n",
       "            color:  #000000;\n",
       "        }    #T_f97ed850_17c5_11ea_8147_b42e994941fcrow7_col0 {\n",
       "            background-color:  #bbd1f8;\n",
       "            color:  #000000;\n",
       "        }    #T_f97ed850_17c5_11ea_8147_b42e994941fcrow7_col1 {\n",
       "            background-color:  #a6c4fe;\n",
       "            color:  #000000;\n",
       "        }    #T_f97ed850_17c5_11ea_8147_b42e994941fcrow7_col2 {\n",
       "            background-color:  #3b4cc0;\n",
       "            color:  #f1f1f1;\n",
       "        }    #T_f97ed850_17c5_11ea_8147_b42e994941fcrow7_col3 {\n",
       "            background-color:  #6b8df0;\n",
       "            color:  #000000;\n",
       "        }    #T_f97ed850_17c5_11ea_8147_b42e994941fcrow7_col4 {\n",
       "            background-color:  #5470de;\n",
       "            color:  #000000;\n",
       "        }    #T_f97ed850_17c5_11ea_8147_b42e994941fcrow7_col5 {\n",
       "            background-color:  #b3cdfb;\n",
       "            color:  #000000;\n",
       "        }    #T_f97ed850_17c5_11ea_8147_b42e994941fcrow7_col6 {\n",
       "            background-color:  #c7d7f0;\n",
       "            color:  #000000;\n",
       "        }    #T_f97ed850_17c5_11ea_8147_b42e994941fcrow7_col7 {\n",
       "            background-color:  #b40426;\n",
       "            color:  #f1f1f1;\n",
       "        }    #T_f97ed850_17c5_11ea_8147_b42e994941fcrow7_col8 {\n",
       "            background-color:  #5f7fe8;\n",
       "            color:  #000000;\n",
       "        }    #T_f97ed850_17c5_11ea_8147_b42e994941fcrow7_col9 {\n",
       "            background-color:  #96b7ff;\n",
       "            color:  #000000;\n",
       "        }    #T_f97ed850_17c5_11ea_8147_b42e994941fcrow7_col10 {\n",
       "            background-color:  #9abbff;\n",
       "            color:  #000000;\n",
       "        }    #T_f97ed850_17c5_11ea_8147_b42e994941fcrow7_col11 {\n",
       "            background-color:  #a2c1ff;\n",
       "            color:  #000000;\n",
       "        }    #T_f97ed850_17c5_11ea_8147_b42e994941fcrow7_col12 {\n",
       "            background-color:  #6f92f3;\n",
       "            color:  #000000;\n",
       "        }    #T_f97ed850_17c5_11ea_8147_b42e994941fcrow8_col0 {\n",
       "            background-color:  #5875e1;\n",
       "            color:  #000000;\n",
       "        }    #T_f97ed850_17c5_11ea_8147_b42e994941fcrow8_col1 {\n",
       "            background-color:  #84a7fc;\n",
       "            color:  #000000;\n",
       "        }    #T_f97ed850_17c5_11ea_8147_b42e994941fcrow8_col2 {\n",
       "            background-color:  #445acc;\n",
       "            color:  #f1f1f1;\n",
       "        }    #T_f97ed850_17c5_11ea_8147_b42e994941fcrow8_col3 {\n",
       "            background-color:  #3b4cc0;\n",
       "            color:  #f1f1f1;\n",
       "        }    #T_f97ed850_17c5_11ea_8147_b42e994941fcrow8_col4 {\n",
       "            background-color:  #4257c9;\n",
       "            color:  #f1f1f1;\n",
       "        }    #T_f97ed850_17c5_11ea_8147_b42e994941fcrow8_col5 {\n",
       "            background-color:  #6687ed;\n",
       "            color:  #000000;\n",
       "        }    #T_f97ed850_17c5_11ea_8147_b42e994941fcrow8_col6 {\n",
       "            background-color:  #6180e9;\n",
       "            color:  #000000;\n",
       "        }    #T_f97ed850_17c5_11ea_8147_b42e994941fcrow8_col7 {\n",
       "            background-color:  #536edd;\n",
       "            color:  #000000;\n",
       "        }    #T_f97ed850_17c5_11ea_8147_b42e994941fcrow8_col8 {\n",
       "            background-color:  #b40426;\n",
       "            color:  #f1f1f1;\n",
       "        }    #T_f97ed850_17c5_11ea_8147_b42e994941fcrow8_col9 {\n",
       "            background-color:  #5b7ae5;\n",
       "            color:  #000000;\n",
       "        }    #T_f97ed850_17c5_11ea_8147_b42e994941fcrow8_col10 {\n",
       "            background-color:  #4b64d5;\n",
       "            color:  #f1f1f1;\n",
       "        }    #T_f97ed850_17c5_11ea_8147_b42e994941fcrow8_col11 {\n",
       "            background-color:  #5470de;\n",
       "            color:  #000000;\n",
       "        }    #T_f97ed850_17c5_11ea_8147_b42e994941fcrow8_col12 {\n",
       "            background-color:  #506bda;\n",
       "            color:  #000000;\n",
       "        }    #T_f97ed850_17c5_11ea_8147_b42e994941fcrow9_col0 {\n",
       "            background-color:  #7da0f9;\n",
       "            color:  #000000;\n",
       "        }    #T_f97ed850_17c5_11ea_8147_b42e994941fcrow9_col1 {\n",
       "            background-color:  #efcfbf;\n",
       "            color:  #000000;\n",
       "        }    #T_f97ed850_17c5_11ea_8147_b42e994941fcrow9_col2 {\n",
       "            background-color:  #92b4fe;\n",
       "            color:  #000000;\n",
       "        }    #T_f97ed850_17c5_11ea_8147_b42e994941fcrow9_col3 {\n",
       "            background-color:  #3b4cc0;\n",
       "            color:  #f1f1f1;\n",
       "        }    #T_f97ed850_17c5_11ea_8147_b42e994941fcrow9_col4 {\n",
       "            background-color:  #445acc;\n",
       "            color:  #f1f1f1;\n",
       "        }    #T_f97ed850_17c5_11ea_8147_b42e994941fcrow9_col5 {\n",
       "            background-color:  #f5a081;\n",
       "            color:  #000000;\n",
       "        }    #T_f97ed850_17c5_11ea_8147_b42e994941fcrow9_col6 {\n",
       "            background-color:  #dcdddd;\n",
       "            color:  #000000;\n",
       "        }    #T_f97ed850_17c5_11ea_8147_b42e994941fcrow9_col7 {\n",
       "            background-color:  #a9c6fd;\n",
       "            color:  #000000;\n",
       "        }    #T_f97ed850_17c5_11ea_8147_b42e994941fcrow9_col8 {\n",
       "            background-color:  #7ea1fa;\n",
       "            color:  #000000;\n",
       "        }    #T_f97ed850_17c5_11ea_8147_b42e994941fcrow9_col9 {\n",
       "            background-color:  #b40426;\n",
       "            color:  #f1f1f1;\n",
       "        }    #T_f97ed850_17c5_11ea_8147_b42e994941fcrow9_col10 {\n",
       "            background-color:  #a6c4fe;\n",
       "            color:  #000000;\n",
       "        }    #T_f97ed850_17c5_11ea_8147_b42e994941fcrow9_col11 {\n",
       "            background-color:  #a3c2fe;\n",
       "            color:  #000000;\n",
       "        }    #T_f97ed850_17c5_11ea_8147_b42e994941fcrow9_col12 {\n",
       "            background-color:  #688aef;\n",
       "            color:  #000000;\n",
       "        }    #T_f97ed850_17c5_11ea_8147_b42e994941fcrow10_col0 {\n",
       "            background-color:  #c3d5f4;\n",
       "            color:  #000000;\n",
       "        }    #T_f97ed850_17c5_11ea_8147_b42e994941fcrow10_col1 {\n",
       "            background-color:  #86a9fc;\n",
       "            color:  #000000;\n",
       "        }    #T_f97ed850_17c5_11ea_8147_b42e994941fcrow10_col2 {\n",
       "            background-color:  #4257c9;\n",
       "            color:  #f1f1f1;\n",
       "        }    #T_f97ed850_17c5_11ea_8147_b42e994941fcrow10_col3 {\n",
       "            background-color:  #adc9fd;\n",
       "            color:  #000000;\n",
       "        }    #T_f97ed850_17c5_11ea_8147_b42e994941fcrow10_col4 {\n",
       "            background-color:  #6687ed;\n",
       "            color:  #000000;\n",
       "        }    #T_f97ed850_17c5_11ea_8147_b42e994941fcrow10_col5 {\n",
       "            background-color:  #dddcdc;\n",
       "            color:  #000000;\n",
       "        }    #T_f97ed850_17c5_11ea_8147_b42e994941fcrow10_col6 {\n",
       "            background-color:  #85a8fc;\n",
       "            color:  #000000;\n",
       "        }    #T_f97ed850_17c5_11ea_8147_b42e994941fcrow10_col7 {\n",
       "            background-color:  #80a3fa;\n",
       "            color:  #000000;\n",
       "        }    #T_f97ed850_17c5_11ea_8147_b42e994941fcrow10_col8 {\n",
       "            background-color:  #3b4cc0;\n",
       "            color:  #f1f1f1;\n",
       "        }    #T_f97ed850_17c5_11ea_8147_b42e994941fcrow10_col9 {\n",
       "            background-color:  #779af7;\n",
       "            color:  #000000;\n",
       "        }    #T_f97ed850_17c5_11ea_8147_b42e994941fcrow10_col10 {\n",
       "            background-color:  #b40426;\n",
       "            color:  #f1f1f1;\n",
       "        }    #T_f97ed850_17c5_11ea_8147_b42e994941fcrow10_col11 {\n",
       "            background-color:  #c4d5f3;\n",
       "            color:  #000000;\n",
       "        }    #T_f97ed850_17c5_11ea_8147_b42e994941fcrow10_col12 {\n",
       "            background-color:  #5470de;\n",
       "            color:  #000000;\n",
       "        }    #T_f97ed850_17c5_11ea_8147_b42e994941fcrow11_col0 {\n",
       "            background-color:  #e8d6cc;\n",
       "            color:  #000000;\n",
       "        }    #T_f97ed850_17c5_11ea_8147_b42e994941fcrow11_col1 {\n",
       "            background-color:  #a7c5fe;\n",
       "            color:  #000000;\n",
       "        }    #T_f97ed850_17c5_11ea_8147_b42e994941fcrow11_col2 {\n",
       "            background-color:  #3b4cc0;\n",
       "            color:  #f1f1f1;\n",
       "        }    #T_f97ed850_17c5_11ea_8147_b42e994941fcrow11_col3 {\n",
       "            background-color:  #bbd1f8;\n",
       "            color:  #000000;\n",
       "        }    #T_f97ed850_17c5_11ea_8147_b42e994941fcrow11_col4 {\n",
       "            background-color:  #7699f6;\n",
       "            color:  #000000;\n",
       "        }    #T_f97ed850_17c5_11ea_8147_b42e994941fcrow11_col5 {\n",
       "            background-color:  #e1dad6;\n",
       "            color:  #000000;\n",
       "        }    #T_f97ed850_17c5_11ea_8147_b42e994941fcrow11_col6 {\n",
       "            background-color:  #b1cbfc;\n",
       "            color:  #000000;\n",
       "        }    #T_f97ed850_17c5_11ea_8147_b42e994941fcrow11_col7 {\n",
       "            background-color:  #9dbdff;\n",
       "            color:  #000000;\n",
       "        }    #T_f97ed850_17c5_11ea_8147_b42e994941fcrow11_col8 {\n",
       "            background-color:  #5a78e4;\n",
       "            color:  #000000;\n",
       "        }    #T_f97ed850_17c5_11ea_8147_b42e994941fcrow11_col9 {\n",
       "            background-color:  #8badfd;\n",
       "            color:  #000000;\n",
       "        }    #T_f97ed850_17c5_11ea_8147_b42e994941fcrow11_col10 {\n",
       "            background-color:  #d2dbe8;\n",
       "            color:  #000000;\n",
       "        }    #T_f97ed850_17c5_11ea_8147_b42e994941fcrow11_col11 {\n",
       "            background-color:  #b40426;\n",
       "            color:  #f1f1f1;\n",
       "        }    #T_f97ed850_17c5_11ea_8147_b42e994941fcrow11_col12 {\n",
       "            background-color:  #85a8fc;\n",
       "            color:  #000000;\n",
       "        }    #T_f97ed850_17c5_11ea_8147_b42e994941fcrow12_col0 {\n",
       "            background-color:  #a5c3fe;\n",
       "            color:  #000000;\n",
       "        }    #T_f97ed850_17c5_11ea_8147_b42e994941fcrow12_col1 {\n",
       "            background-color:  #6f92f3;\n",
       "            color:  #000000;\n",
       "        }    #T_f97ed850_17c5_11ea_8147_b42e994941fcrow12_col2 {\n",
       "            background-color:  #3b4cc0;\n",
       "            color:  #f1f1f1;\n",
       "        }    #T_f97ed850_17c5_11ea_8147_b42e994941fcrow12_col3 {\n",
       "            background-color:  #6a8bef;\n",
       "            color:  #000000;\n",
       "        }    #T_f97ed850_17c5_11ea_8147_b42e994941fcrow12_col4 {\n",
       "            background-color:  #86a9fc;\n",
       "            color:  #000000;\n",
       "        }    #T_f97ed850_17c5_11ea_8147_b42e994941fcrow12_col5 {\n",
       "            background-color:  #6f92f3;\n",
       "            color:  #000000;\n",
       "        }    #T_f97ed850_17c5_11ea_8147_b42e994941fcrow12_col6 {\n",
       "            background-color:  #89acfd;\n",
       "            color:  #000000;\n",
       "        }    #T_f97ed850_17c5_11ea_8147_b42e994941fcrow12_col7 {\n",
       "            background-color:  #7b9ff9;\n",
       "            color:  #000000;\n",
       "        }    #T_f97ed850_17c5_11ea_8147_b42e994941fcrow12_col8 {\n",
       "            background-color:  #6a8bef;\n",
       "            color:  #000000;\n",
       "        }    #T_f97ed850_17c5_11ea_8147_b42e994941fcrow12_col9 {\n",
       "            background-color:  #5e7de7;\n",
       "            color:  #000000;\n",
       "        }    #T_f97ed850_17c5_11ea_8147_b42e994941fcrow12_col10 {\n",
       "            background-color:  #7ea1fa;\n",
       "            color:  #000000;\n",
       "        }    #T_f97ed850_17c5_11ea_8147_b42e994941fcrow12_col11 {\n",
       "            background-color:  #96b7ff;\n",
       "            color:  #000000;\n",
       "        }    #T_f97ed850_17c5_11ea_8147_b42e994941fcrow12_col12 {\n",
       "            background-color:  #b40426;\n",
       "            color:  #f1f1f1;\n",
       "        }</style><table id=\"T_f97ed850_17c5_11ea_8147_b42e994941fc\" ><thead>    <tr>        <th class=\"blank level0\" ></th>        <th class=\"col_heading level0 col0\" >win</th>        <th class=\"col_heading level0 col1\" >kills</th>        <th class=\"col_heading level0 col2\" >deaths</th>        <th class=\"col_heading level0 col3\" >assists</th>        <th class=\"col_heading level0 col4\" >visionscore</th>        <th class=\"col_heading level0 col5\" >goldearned</th>        <th class=\"col_heading level0 col6\" >turretkills</th>        <th class=\"col_heading level0 col7\" >inhibkills</th>        <th class=\"col_heading level0 col8\" >firstblood</th>        <th class=\"col_heading level0 col9\" >farm</th>        <th class=\"col_heading level0 col10\" >baronkills</th>        <th class=\"col_heading level0 col11\" >dragonkills</th>        <th class=\"col_heading level0 col12\" >harrykills</th>    </tr></thead><tbody>\n",
       "                <tr>\n",
       "                        <th id=\"T_f97ed850_17c5_11ea_8147_b42e994941fclevel0_row0\" class=\"row_heading level0 row0\" >win</th>\n",
       "                        <td id=\"T_f97ed850_17c5_11ea_8147_b42e994941fcrow0_col0\" class=\"data row0 col0\" >1.0</td>\n",
       "                        <td id=\"T_f97ed850_17c5_11ea_8147_b42e994941fcrow0_col1\" class=\"data row0 col1\" >0.27</td>\n",
       "                        <td id=\"T_f97ed850_17c5_11ea_8147_b42e994941fcrow0_col2\" class=\"data row0 col2\" >-0.39</td>\n",
       "                        <td id=\"T_f97ed850_17c5_11ea_8147_b42e994941fcrow0_col3\" class=\"data row0 col3\" >0.32</td>\n",
       "                        <td id=\"T_f97ed850_17c5_11ea_8147_b42e994941fcrow0_col4\" class=\"data row0 col4\" >0.053</td>\n",
       "                        <td id=\"T_f97ed850_17c5_11ea_8147_b42e994941fcrow0_col5\" class=\"data row0 col5\" >0.31</td>\n",
       "                        <td id=\"T_f97ed850_17c5_11ea_8147_b42e994941fcrow0_col6\" class=\"data row0 col6\" >0.42</td>\n",
       "                        <td id=\"T_f97ed850_17c5_11ea_8147_b42e994941fcrow0_col7\" class=\"data row0 col7\" >0.33</td>\n",
       "                        <td id=\"T_f97ed850_17c5_11ea_8147_b42e994941fcrow0_col8\" class=\"data row0 col8\" >0.063</td>\n",
       "                        <td id=\"T_f97ed850_17c5_11ea_8147_b42e994941fcrow0_col9\" class=\"data row0 col9\" >0.065</td>\n",
       "                        <td id=\"T_f97ed850_17c5_11ea_8147_b42e994941fcrow0_col10\" class=\"data row0 col10\" >0.42</td>\n",
       "                        <td id=\"T_f97ed850_17c5_11ea_8147_b42e994941fcrow0_col11\" class=\"data row0 col11\" >0.52</td>\n",
       "                        <td id=\"T_f97ed850_17c5_11ea_8147_b42e994941fcrow0_col12\" class=\"data row0 col12\" >0.23</td>\n",
       "            </tr>\n",
       "            <tr>\n",
       "                        <th id=\"T_f97ed850_17c5_11ea_8147_b42e994941fclevel0_row1\" class=\"row_heading level0 row1\" >kills</th>\n",
       "                        <td id=\"T_f97ed850_17c5_11ea_8147_b42e994941fcrow1_col0\" class=\"data row1 col0\" >0.27</td>\n",
       "                        <td id=\"T_f97ed850_17c5_11ea_8147_b42e994941fcrow1_col1\" class=\"data row1 col1\" >1.0</td>\n",
       "                        <td id=\"T_f97ed850_17c5_11ea_8147_b42e994941fcrow1_col2\" class=\"data row1 col2\" >0.12</td>\n",
       "                        <td id=\"T_f97ed850_17c5_11ea_8147_b42e994941fcrow1_col3\" class=\"data row1 col3\" >0.037</td>\n",
       "                        <td id=\"T_f97ed850_17c5_11ea_8147_b42e994941fcrow1_col4\" class=\"data row1 col4\" >-0.039</td>\n",
       "                        <td id=\"T_f97ed850_17c5_11ea_8147_b42e994941fcrow1_col5\" class=\"data row1 col5\" >0.73</td>\n",
       "                        <td id=\"T_f97ed850_17c5_11ea_8147_b42e994941fcrow1_col6\" class=\"data row1 col6\" >0.41</td>\n",
       "                        <td id=\"T_f97ed850_17c5_11ea_8147_b42e994941fcrow1_col7\" class=\"data row1 col7\" >0.26</td>\n",
       "                        <td id=\"T_f97ed850_17c5_11ea_8147_b42e994941fcrow1_col8\" class=\"data row1 col8\" >0.2</td>\n",
       "                        <td id=\"T_f97ed850_17c5_11ea_8147_b42e994941fcrow1_col9\" class=\"data row1 col9\" >0.51</td>\n",
       "                        <td id=\"T_f97ed850_17c5_11ea_8147_b42e994941fcrow1_col10\" class=\"data row1 col10\" >0.25</td>\n",
       "                        <td id=\"T_f97ed850_17c5_11ea_8147_b42e994941fcrow1_col11\" class=\"data row1 col11\" >0.29</td>\n",
       "                        <td id=\"T_f97ed850_17c5_11ea_8147_b42e994941fcrow1_col12\" class=\"data row1 col12\" >0.056</td>\n",
       "            </tr>\n",
       "            <tr>\n",
       "                        <th id=\"T_f97ed850_17c5_11ea_8147_b42e994941fclevel0_row2\" class=\"row_heading level0 row2\" >deaths</th>\n",
       "                        <td id=\"T_f97ed850_17c5_11ea_8147_b42e994941fcrow2_col0\" class=\"data row2 col0\" >-0.39</td>\n",
       "                        <td id=\"T_f97ed850_17c5_11ea_8147_b42e994941fcrow2_col1\" class=\"data row2 col1\" >0.12</td>\n",
       "                        <td id=\"T_f97ed850_17c5_11ea_8147_b42e994941fcrow2_col2\" class=\"data row2 col2\" >1.0</td>\n",
       "                        <td id=\"T_f97ed850_17c5_11ea_8147_b42e994941fcrow2_col3\" class=\"data row2 col3\" >0.088</td>\n",
       "                        <td id=\"T_f97ed850_17c5_11ea_8147_b42e994941fcrow2_col4\" class=\"data row2 col4\" >0.03</td>\n",
       "                        <td id=\"T_f97ed850_17c5_11ea_8147_b42e994941fcrow2_col5\" class=\"data row2 col5\" >0.27</td>\n",
       "                        <td id=\"T_f97ed850_17c5_11ea_8147_b42e994941fcrow2_col6\" class=\"data row2 col6\" >-0.13</td>\n",
       "                        <td id=\"T_f97ed850_17c5_11ea_8147_b42e994941fcrow2_col7\" class=\"data row2 col7\" >-0.085</td>\n",
       "                        <td id=\"T_f97ed850_17c5_11ea_8147_b42e994941fcrow2_col8\" class=\"data row2 col8\" >-0.0052</td>\n",
       "                        <td id=\"T_f97ed850_17c5_11ea_8147_b42e994941fcrow2_col9\" class=\"data row2 col9\" >0.13</td>\n",
       "                        <td id=\"T_f97ed850_17c5_11ea_8147_b42e994941fcrow2_col10\" class=\"data row2 col10\" >0.043</td>\n",
       "                        <td id=\"T_f97ed850_17c5_11ea_8147_b42e994941fcrow2_col11\" class=\"data row2 col11\" >-0.062</td>\n",
       "                        <td id=\"T_f97ed850_17c5_11ea_8147_b42e994941fcrow2_col12\" class=\"data row2 col12\" >-0.13</td>\n",
       "            </tr>\n",
       "            <tr>\n",
       "                        <th id=\"T_f97ed850_17c5_11ea_8147_b42e994941fclevel0_row3\" class=\"row_heading level0 row3\" >assists</th>\n",
       "                        <td id=\"T_f97ed850_17c5_11ea_8147_b42e994941fcrow3_col0\" class=\"data row3 col0\" >0.32</td>\n",
       "                        <td id=\"T_f97ed850_17c5_11ea_8147_b42e994941fcrow3_col1\" class=\"data row3 col1\" >0.037</td>\n",
       "                        <td id=\"T_f97ed850_17c5_11ea_8147_b42e994941fcrow3_col2\" class=\"data row3 col2\" >0.088</td>\n",
       "                        <td id=\"T_f97ed850_17c5_11ea_8147_b42e994941fcrow3_col3\" class=\"data row3 col3\" >1.0</td>\n",
       "                        <td id=\"T_f97ed850_17c5_11ea_8147_b42e994941fcrow3_col4\" class=\"data row3 col4\" >0.28</td>\n",
       "                        <td id=\"T_f97ed850_17c5_11ea_8147_b42e994941fcrow3_col5\" class=\"data row3 col5\" >0.39</td>\n",
       "                        <td id=\"T_f97ed850_17c5_11ea_8147_b42e994941fcrow3_col6\" class=\"data row3 col6\" >0.031</td>\n",
       "                        <td id=\"T_f97ed850_17c5_11ea_8147_b42e994941fcrow3_col7\" class=\"data row3 col7\" >0.081</td>\n",
       "                        <td id=\"T_f97ed850_17c5_11ea_8147_b42e994941fcrow3_col8\" class=\"data row3 col8\" >-0.038</td>\n",
       "                        <td id=\"T_f97ed850_17c5_11ea_8147_b42e994941fcrow3_col9\" class=\"data row3 col9\" >-0.17</td>\n",
       "                        <td id=\"T_f97ed850_17c5_11ea_8147_b42e994941fcrow3_col10\" class=\"data row3 col10\" >0.36</td>\n",
       "                        <td id=\"T_f97ed850_17c5_11ea_8147_b42e994941fcrow3_col11\" class=\"data row3 col11\" >0.35</td>\n",
       "                        <td id=\"T_f97ed850_17c5_11ea_8147_b42e994941fcrow3_col12\" class=\"data row3 col12\" >0.037</td>\n",
       "            </tr>\n",
       "            <tr>\n",
       "                        <th id=\"T_f97ed850_17c5_11ea_8147_b42e994941fclevel0_row4\" class=\"row_heading level0 row4\" >visionscore</th>\n",
       "                        <td id=\"T_f97ed850_17c5_11ea_8147_b42e994941fcrow4_col0\" class=\"data row4 col0\" >0.053</td>\n",
       "                        <td id=\"T_f97ed850_17c5_11ea_8147_b42e994941fcrow4_col1\" class=\"data row4 col1\" >-0.039</td>\n",
       "                        <td id=\"T_f97ed850_17c5_11ea_8147_b42e994941fcrow4_col2\" class=\"data row4 col2\" >0.03</td>\n",
       "                        <td id=\"T_f97ed850_17c5_11ea_8147_b42e994941fcrow4_col3\" class=\"data row4 col3\" >0.28</td>\n",
       "                        <td id=\"T_f97ed850_17c5_11ea_8147_b42e994941fcrow4_col4\" class=\"data row4 col4\" >1.0</td>\n",
       "                        <td id=\"T_f97ed850_17c5_11ea_8147_b42e994941fcrow4_col5\" class=\"data row4 col5\" >0.13</td>\n",
       "                        <td id=\"T_f97ed850_17c5_11ea_8147_b42e994941fcrow4_col6\" class=\"data row4 col6\" >-0.035</td>\n",
       "                        <td id=\"T_f97ed850_17c5_11ea_8147_b42e994941fcrow4_col7\" class=\"data row4 col7\" >0.0053</td>\n",
       "                        <td id=\"T_f97ed850_17c5_11ea_8147_b42e994941fcrow4_col8\" class=\"data row4 col8\" >-0.012</td>\n",
       "                        <td id=\"T_f97ed850_17c5_11ea_8147_b42e994941fcrow4_col9\" class=\"data row4 col9\" >-0.13</td>\n",
       "                        <td id=\"T_f97ed850_17c5_11ea_8147_b42e994941fcrow4_col10\" class=\"data row4 col10\" >0.16</td>\n",
       "                        <td id=\"T_f97ed850_17c5_11ea_8147_b42e994941fcrow4_col11\" class=\"data row4 col11\" >0.13</td>\n",
       "                        <td id=\"T_f97ed850_17c5_11ea_8147_b42e994941fcrow4_col12\" class=\"data row4 col12\" >0.13</td>\n",
       "            </tr>\n",
       "            <tr>\n",
       "                        <th id=\"T_f97ed850_17c5_11ea_8147_b42e994941fclevel0_row5\" class=\"row_heading level0 row5\" >goldearned</th>\n",
       "                        <td id=\"T_f97ed850_17c5_11ea_8147_b42e994941fcrow5_col0\" class=\"data row5 col0\" >0.31</td>\n",
       "                        <td id=\"T_f97ed850_17c5_11ea_8147_b42e994941fcrow5_col1\" class=\"data row5 col1\" >0.73</td>\n",
       "                        <td id=\"T_f97ed850_17c5_11ea_8147_b42e994941fcrow5_col2\" class=\"data row5 col2\" >0.27</td>\n",
       "                        <td id=\"T_f97ed850_17c5_11ea_8147_b42e994941fcrow5_col3\" class=\"data row5 col3\" >0.39</td>\n",
       "                        <td id=\"T_f97ed850_17c5_11ea_8147_b42e994941fcrow5_col4\" class=\"data row5 col4\" >0.13</td>\n",
       "                        <td id=\"T_f97ed850_17c5_11ea_8147_b42e994941fcrow5_col5\" class=\"data row5 col5\" >1.0</td>\n",
       "                        <td id=\"T_f97ed850_17c5_11ea_8147_b42e994941fcrow5_col6\" class=\"data row5 col6\" >0.44</td>\n",
       "                        <td id=\"T_f97ed850_17c5_11ea_8147_b42e994941fcrow5_col7\" class=\"data row5 col7\" >0.31</td>\n",
       "                        <td id=\"T_f97ed850_17c5_11ea_8147_b42e994941fcrow5_col8\" class=\"data row5 col8\" >0.11</td>\n",
       "                        <td id=\"T_f97ed850_17c5_11ea_8147_b42e994941fcrow5_col9\" class=\"data row5 col9\" >0.68</td>\n",
       "                        <td id=\"T_f97ed850_17c5_11ea_8147_b42e994941fcrow5_col10\" class=\"data row5 col10\" >0.51</td>\n",
       "                        <td id=\"T_f97ed850_17c5_11ea_8147_b42e994941fcrow5_col11\" class=\"data row5 col11\" >0.49</td>\n",
       "                        <td id=\"T_f97ed850_17c5_11ea_8147_b42e994941fcrow5_col12\" class=\"data row5 col12\" >0.054</td>\n",
       "            </tr>\n",
       "            <tr>\n",
       "                        <th id=\"T_f97ed850_17c5_11ea_8147_b42e994941fclevel0_row6\" class=\"row_heading level0 row6\" >turretkills</th>\n",
       "                        <td id=\"T_f97ed850_17c5_11ea_8147_b42e994941fcrow6_col0\" class=\"data row6 col0\" >0.42</td>\n",
       "                        <td id=\"T_f97ed850_17c5_11ea_8147_b42e994941fcrow6_col1\" class=\"data row6 col1\" >0.41</td>\n",
       "                        <td id=\"T_f97ed850_17c5_11ea_8147_b42e994941fcrow6_col2\" class=\"data row6 col2\" >-0.13</td>\n",
       "                        <td id=\"T_f97ed850_17c5_11ea_8147_b42e994941fcrow6_col3\" class=\"data row6 col3\" >0.031</td>\n",
       "                        <td id=\"T_f97ed850_17c5_11ea_8147_b42e994941fcrow6_col4\" class=\"data row6 col4\" >-0.035</td>\n",
       "                        <td id=\"T_f97ed850_17c5_11ea_8147_b42e994941fcrow6_col5\" class=\"data row6 col5\" >0.44</td>\n",
       "                        <td id=\"T_f97ed850_17c5_11ea_8147_b42e994941fcrow6_col6\" class=\"data row6 col6\" >1.0</td>\n",
       "                        <td id=\"T_f97ed850_17c5_11ea_8147_b42e994941fcrow6_col7\" class=\"data row6 col7\" >0.37</td>\n",
       "                        <td id=\"T_f97ed850_17c5_11ea_8147_b42e994941fcrow6_col8\" class=\"data row6 col8\" >0.091</td>\n",
       "                        <td id=\"T_f97ed850_17c5_11ea_8147_b42e994941fcrow6_col9\" class=\"data row6 col9\" >0.41</td>\n",
       "                        <td id=\"T_f97ed850_17c5_11ea_8147_b42e994941fcrow6_col10\" class=\"data row6 col10\" >0.24</td>\n",
       "                        <td id=\"T_f97ed850_17c5_11ea_8147_b42e994941fcrow6_col11\" class=\"data row6 col11\" >0.31</td>\n",
       "                        <td id=\"T_f97ed850_17c5_11ea_8147_b42e994941fcrow6_col12\" class=\"data row6 col12\" >0.14</td>\n",
       "            </tr>\n",
       "            <tr>\n",
       "                        <th id=\"T_f97ed850_17c5_11ea_8147_b42e994941fclevel0_row7\" class=\"row_heading level0 row7\" >inhibkills</th>\n",
       "                        <td id=\"T_f97ed850_17c5_11ea_8147_b42e994941fcrow7_col0\" class=\"data row7 col0\" >0.33</td>\n",
       "                        <td id=\"T_f97ed850_17c5_11ea_8147_b42e994941fcrow7_col1\" class=\"data row7 col1\" >0.26</td>\n",
       "                        <td id=\"T_f97ed850_17c5_11ea_8147_b42e994941fcrow7_col2\" class=\"data row7 col2\" >-0.085</td>\n",
       "                        <td id=\"T_f97ed850_17c5_11ea_8147_b42e994941fcrow7_col3\" class=\"data row7 col3\" >0.081</td>\n",
       "                        <td id=\"T_f97ed850_17c5_11ea_8147_b42e994941fcrow7_col4\" class=\"data row7 col4\" >0.0053</td>\n",
       "                        <td id=\"T_f97ed850_17c5_11ea_8147_b42e994941fcrow7_col5\" class=\"data row7 col5\" >0.31</td>\n",
       "                        <td id=\"T_f97ed850_17c5_11ea_8147_b42e994941fcrow7_col6\" class=\"data row7 col6\" >0.37</td>\n",
       "                        <td id=\"T_f97ed850_17c5_11ea_8147_b42e994941fcrow7_col7\" class=\"data row7 col7\" >1.0</td>\n",
       "                        <td id=\"T_f97ed850_17c5_11ea_8147_b42e994941fcrow7_col8\" class=\"data row7 col8\" >0.046</td>\n",
       "                        <td id=\"T_f97ed850_17c5_11ea_8147_b42e994941fcrow7_col9\" class=\"data row7 col9\" >0.21</td>\n",
       "                        <td id=\"T_f97ed850_17c5_11ea_8147_b42e994941fcrow7_col10\" class=\"data row7 col10\" >0.23</td>\n",
       "                        <td id=\"T_f97ed850_17c5_11ea_8147_b42e994941fcrow7_col11\" class=\"data row7 col11\" >0.25</td>\n",
       "                        <td id=\"T_f97ed850_17c5_11ea_8147_b42e994941fcrow7_col12\" class=\"data row7 col12\" >0.094</td>\n",
       "            </tr>\n",
       "            <tr>\n",
       "                        <th id=\"T_f97ed850_17c5_11ea_8147_b42e994941fclevel0_row8\" class=\"row_heading level0 row8\" >firstblood</th>\n",
       "                        <td id=\"T_f97ed850_17c5_11ea_8147_b42e994941fcrow8_col0\" class=\"data row8 col0\" >0.063</td>\n",
       "                        <td id=\"T_f97ed850_17c5_11ea_8147_b42e994941fcrow8_col1\" class=\"data row8 col1\" >0.2</td>\n",
       "                        <td id=\"T_f97ed850_17c5_11ea_8147_b42e994941fcrow8_col2\" class=\"data row8 col2\" >-0.0052</td>\n",
       "                        <td id=\"T_f97ed850_17c5_11ea_8147_b42e994941fcrow8_col3\" class=\"data row8 col3\" >-0.038</td>\n",
       "                        <td id=\"T_f97ed850_17c5_11ea_8147_b42e994941fcrow8_col4\" class=\"data row8 col4\" >-0.012</td>\n",
       "                        <td id=\"T_f97ed850_17c5_11ea_8147_b42e994941fcrow8_col5\" class=\"data row8 col5\" >0.11</td>\n",
       "                        <td id=\"T_f97ed850_17c5_11ea_8147_b42e994941fcrow8_col6\" class=\"data row8 col6\" >0.091</td>\n",
       "                        <td id=\"T_f97ed850_17c5_11ea_8147_b42e994941fcrow8_col7\" class=\"data row8 col7\" >0.046</td>\n",
       "                        <td id=\"T_f97ed850_17c5_11ea_8147_b42e994941fcrow8_col8\" class=\"data row8 col8\" >1.0</td>\n",
       "                        <td id=\"T_f97ed850_17c5_11ea_8147_b42e994941fcrow8_col9\" class=\"data row8 col9\" >0.072</td>\n",
       "                        <td id=\"T_f97ed850_17c5_11ea_8147_b42e994941fcrow8_col10\" class=\"data row8 col10\" >0.019</td>\n",
       "                        <td id=\"T_f97ed850_17c5_11ea_8147_b42e994941fcrow8_col11\" class=\"data row8 col11\" >0.048</td>\n",
       "                        <td id=\"T_f97ed850_17c5_11ea_8147_b42e994941fcrow8_col12\" class=\"data row8 col12\" >0.036</td>\n",
       "            </tr>\n",
       "            <tr>\n",
       "                        <th id=\"T_f97ed850_17c5_11ea_8147_b42e994941fclevel0_row9\" class=\"row_heading level0 row9\" >farm</th>\n",
       "                        <td id=\"T_f97ed850_17c5_11ea_8147_b42e994941fcrow9_col0\" class=\"data row9 col0\" >0.065</td>\n",
       "                        <td id=\"T_f97ed850_17c5_11ea_8147_b42e994941fcrow9_col1\" class=\"data row9 col1\" >0.51</td>\n",
       "                        <td id=\"T_f97ed850_17c5_11ea_8147_b42e994941fcrow9_col2\" class=\"data row9 col2\" >0.13</td>\n",
       "                        <td id=\"T_f97ed850_17c5_11ea_8147_b42e994941fcrow9_col3\" class=\"data row9 col3\" >-0.17</td>\n",
       "                        <td id=\"T_f97ed850_17c5_11ea_8147_b42e994941fcrow9_col4\" class=\"data row9 col4\" >-0.13</td>\n",
       "                        <td id=\"T_f97ed850_17c5_11ea_8147_b42e994941fcrow9_col5\" class=\"data row9 col5\" >0.68</td>\n",
       "                        <td id=\"T_f97ed850_17c5_11ea_8147_b42e994941fcrow9_col6\" class=\"data row9 col6\" >0.41</td>\n",
       "                        <td id=\"T_f97ed850_17c5_11ea_8147_b42e994941fcrow9_col7\" class=\"data row9 col7\" >0.21</td>\n",
       "                        <td id=\"T_f97ed850_17c5_11ea_8147_b42e994941fcrow9_col8\" class=\"data row9 col8\" >0.072</td>\n",
       "                        <td id=\"T_f97ed850_17c5_11ea_8147_b42e994941fcrow9_col9\" class=\"data row9 col9\" >1.0</td>\n",
       "                        <td id=\"T_f97ed850_17c5_11ea_8147_b42e994941fcrow9_col10\" class=\"data row9 col10\" >0.21</td>\n",
       "                        <td id=\"T_f97ed850_17c5_11ea_8147_b42e994941fcrow9_col11\" class=\"data row9 col11\" >0.2</td>\n",
       "                        <td id=\"T_f97ed850_17c5_11ea_8147_b42e994941fcrow9_col12\" class=\"data row9 col12\" >-3.3e-05</td>\n",
       "            </tr>\n",
       "            <tr>\n",
       "                        <th id=\"T_f97ed850_17c5_11ea_8147_b42e994941fclevel0_row10\" class=\"row_heading level0 row10\" >baronkills</th>\n",
       "                        <td id=\"T_f97ed850_17c5_11ea_8147_b42e994941fcrow10_col0\" class=\"data row10 col0\" >0.42</td>\n",
       "                        <td id=\"T_f97ed850_17c5_11ea_8147_b42e994941fcrow10_col1\" class=\"data row10 col1\" >0.25</td>\n",
       "                        <td id=\"T_f97ed850_17c5_11ea_8147_b42e994941fcrow10_col2\" class=\"data row10 col2\" >0.043</td>\n",
       "                        <td id=\"T_f97ed850_17c5_11ea_8147_b42e994941fcrow10_col3\" class=\"data row10 col3\" >0.36</td>\n",
       "                        <td id=\"T_f97ed850_17c5_11ea_8147_b42e994941fcrow10_col4\" class=\"data row10 col4\" >0.16</td>\n",
       "                        <td id=\"T_f97ed850_17c5_11ea_8147_b42e994941fcrow10_col5\" class=\"data row10 col5\" >0.51</td>\n",
       "                        <td id=\"T_f97ed850_17c5_11ea_8147_b42e994941fcrow10_col6\" class=\"data row10 col6\" >0.24</td>\n",
       "                        <td id=\"T_f97ed850_17c5_11ea_8147_b42e994941fcrow10_col7\" class=\"data row10 col7\" >0.23</td>\n",
       "                        <td id=\"T_f97ed850_17c5_11ea_8147_b42e994941fcrow10_col8\" class=\"data row10 col8\" >0.019</td>\n",
       "                        <td id=\"T_f97ed850_17c5_11ea_8147_b42e994941fcrow10_col9\" class=\"data row10 col9\" >0.21</td>\n",
       "                        <td id=\"T_f97ed850_17c5_11ea_8147_b42e994941fcrow10_col10\" class=\"data row10 col10\" >1.0</td>\n",
       "                        <td id=\"T_f97ed850_17c5_11ea_8147_b42e994941fcrow10_col11\" class=\"data row10 col11\" >0.42</td>\n",
       "                        <td id=\"T_f97ed850_17c5_11ea_8147_b42e994941fcrow10_col12\" class=\"data row10 col12\" >0.1</td>\n",
       "            </tr>\n",
       "            <tr>\n",
       "                        <th id=\"T_f97ed850_17c5_11ea_8147_b42e994941fclevel0_row11\" class=\"row_heading level0 row11\" >dragonkills</th>\n",
       "                        <td id=\"T_f97ed850_17c5_11ea_8147_b42e994941fcrow11_col0\" class=\"data row11 col0\" >0.52</td>\n",
       "                        <td id=\"T_f97ed850_17c5_11ea_8147_b42e994941fcrow11_col1\" class=\"data row11 col1\" >0.29</td>\n",
       "                        <td id=\"T_f97ed850_17c5_11ea_8147_b42e994941fcrow11_col2\" class=\"data row11 col2\" >-0.062</td>\n",
       "                        <td id=\"T_f97ed850_17c5_11ea_8147_b42e994941fcrow11_col3\" class=\"data row11 col3\" >0.35</td>\n",
       "                        <td id=\"T_f97ed850_17c5_11ea_8147_b42e994941fcrow11_col4\" class=\"data row11 col4\" >0.13</td>\n",
       "                        <td id=\"T_f97ed850_17c5_11ea_8147_b42e994941fcrow11_col5\" class=\"data row11 col5\" >0.49</td>\n",
       "                        <td id=\"T_f97ed850_17c5_11ea_8147_b42e994941fcrow11_col6\" class=\"data row11 col6\" >0.31</td>\n",
       "                        <td id=\"T_f97ed850_17c5_11ea_8147_b42e994941fcrow11_col7\" class=\"data row11 col7\" >0.25</td>\n",
       "                        <td id=\"T_f97ed850_17c5_11ea_8147_b42e994941fcrow11_col8\" class=\"data row11 col8\" >0.048</td>\n",
       "                        <td id=\"T_f97ed850_17c5_11ea_8147_b42e994941fcrow11_col9\" class=\"data row11 col9\" >0.2</td>\n",
       "                        <td id=\"T_f97ed850_17c5_11ea_8147_b42e994941fcrow11_col10\" class=\"data row11 col10\" >0.42</td>\n",
       "                        <td id=\"T_f97ed850_17c5_11ea_8147_b42e994941fcrow11_col11\" class=\"data row11 col11\" >1.0</td>\n",
       "                        <td id=\"T_f97ed850_17c5_11ea_8147_b42e994941fcrow11_col12\" class=\"data row11 col12\" >0.18</td>\n",
       "            </tr>\n",
       "            <tr>\n",
       "                        <th id=\"T_f97ed850_17c5_11ea_8147_b42e994941fclevel0_row12\" class=\"row_heading level0 row12\" >harrykills</th>\n",
       "                        <td id=\"T_f97ed850_17c5_11ea_8147_b42e994941fcrow12_col0\" class=\"data row12 col0\" >0.23</td>\n",
       "                        <td id=\"T_f97ed850_17c5_11ea_8147_b42e994941fcrow12_col1\" class=\"data row12 col1\" >0.056</td>\n",
       "                        <td id=\"T_f97ed850_17c5_11ea_8147_b42e994941fcrow12_col2\" class=\"data row12 col2\" >-0.13</td>\n",
       "                        <td id=\"T_f97ed850_17c5_11ea_8147_b42e994941fcrow12_col3\" class=\"data row12 col3\" >0.037</td>\n",
       "                        <td id=\"T_f97ed850_17c5_11ea_8147_b42e994941fcrow12_col4\" class=\"data row12 col4\" >0.13</td>\n",
       "                        <td id=\"T_f97ed850_17c5_11ea_8147_b42e994941fcrow12_col5\" class=\"data row12 col5\" >0.054</td>\n",
       "                        <td id=\"T_f97ed850_17c5_11ea_8147_b42e994941fcrow12_col6\" class=\"data row12 col6\" >0.14</td>\n",
       "                        <td id=\"T_f97ed850_17c5_11ea_8147_b42e994941fcrow12_col7\" class=\"data row12 col7\" >0.094</td>\n",
       "                        <td id=\"T_f97ed850_17c5_11ea_8147_b42e994941fcrow12_col8\" class=\"data row12 col8\" >0.036</td>\n",
       "                        <td id=\"T_f97ed850_17c5_11ea_8147_b42e994941fcrow12_col9\" class=\"data row12 col9\" >-3.3e-05</td>\n",
       "                        <td id=\"T_f97ed850_17c5_11ea_8147_b42e994941fcrow12_col10\" class=\"data row12 col10\" >0.1</td>\n",
       "                        <td id=\"T_f97ed850_17c5_11ea_8147_b42e994941fcrow12_col11\" class=\"data row12 col11\" >0.18</td>\n",
       "                        <td id=\"T_f97ed850_17c5_11ea_8147_b42e994941fcrow12_col12\" class=\"data row12 col12\" >1.0</td>\n",
       "            </tr>\n",
       "    </tbody></table>"
      ],
      "text/plain": [
       "<pandas.io.formats.style.Styler at 0x16f82c45438>"
      ]
     },
     "execution_count": 139,
     "metadata": {},
     "output_type": "execute_result"
    }
   ],
   "source": [
    "df.corr().style.format(\"{:.2}\").background_gradient(cmap=plt.get_cmap('coolwarm'), axis=1)"
   ]
  },
  {
   "cell_type": "code",
   "execution_count": 140,
   "metadata": {},
   "outputs": [
    {
     "data": {
      "text/plain": [
       "'Correlação 1: A correlação mais forte demonstrada acima é a de goldearned e kills, com um valor de 0,73, ou seja, quanto maior o seu foco em obter kills, maior a probabilidade que você termine o jogo com uma alta quantidade de ouro.'"
      ]
     },
     "execution_count": 140,
     "metadata": {},
     "output_type": "execute_result"
    }
   ],
   "source": [
    "'''Correlação 1: A correlação mais forte demonstrada acima é a de goldearned e kills, com um valor de 0,73, ou seja, quanto maior o seu foco em obter kills, maior a probabilidade que você termine o jogo com uma alta quantidade de ouro.'''"
   ]
  },
  {
   "cell_type": "code",
   "execution_count": 141,
   "metadata": {},
   "outputs": [
    {
     "data": {
      "text/plain": [
       "'Correlação 2: A segunda correlação mais forte no gráfico é a de farm e goldearned, com um valor de 0,68, quase tão alto quanto a correlação anterior e devendo ser tratada com a mesma importância.'"
      ]
     },
     "execution_count": 141,
     "metadata": {},
     "output_type": "execute_result"
    }
   ],
   "source": [
    "'''Correlação 2: A segunda correlação mais forte no gráfico é a de farm e goldearned, com um valor de 0,68, quase tão alto quanto a correlação anterior e devendo ser tratada com a mesma importância.'''"
   ]
  },
  {
   "cell_type": "code",
   "execution_count": 142,
   "metadata": {},
   "outputs": [
    {
     "data": {
      "text/plain": [
       "'Correlação 3: Curiosamente a terceira correlação mais forte no gráfico é a de win e dragonkills, um objetivo já bem focado pelos jogadores como demonstrado acima, com um valor de 0,52, e quanto paramos para a analisar as correlações de win, objetivo principal do jogo, notamos que suas correlações mais fortes são com dragonkills(0,52), baronkills(0,42) e turretkills(0,42).'"
      ]
     },
     "execution_count": 142,
     "metadata": {},
     "output_type": "execute_result"
    }
   ],
   "source": [
    "'''Correlação 3: Curiosamente a terceira correlação mais forte no gráfico é a de win e dragonkills, um objetivo já bem focado pelos jogadores como demonstrado acima, com um valor de 0,52, e quanto paramos para a analisar as correlações de win, objetivo principal do jogo, notamos que suas correlações mais fortes são com dragonkills(0,52), baronkills(0,42) e turretkills(0,42).'''"
   ]
  },
  {
   "cell_type": "markdown",
   "metadata": {},
   "source": [
    "### 5) Conclusões **15%**"
   ]
  },
  {
   "cell_type": "markdown",
   "metadata": {},
   "source": [
    "*O que é possível concluir com os dados que você analisou? Se fosse fazer uma apresentação, o que levaria como os maiores destaques e por que?*"
   ]
  },
  {
   "cell_type": "markdown",
   "metadata": {},
   "source": [
    "Como podemos analisar com os dados demonstrados, apesar de obter abates e farmes, que como consequência lhe provem ouro e lhe deixa mais forte que os demais jogadores, kills(0,27), goldearned(0,31) e farm(0,06) possuem correlações muito baixas para com o campo win, que é o mais importante de ser alcançado, podemos notar ainda que o deaths(-0,39) tem uma correlação negativa com win que é mais forte que os três campos citados acima, por tanto em uma ordem de prioridade, é preferível não morrer a matar e farmar. Se colocarmos nosso foco nas correlações existentes em win, vamos notar que os campos mais relecantes são: dragonkills(0,52), baronkills(0,42) e turretkills(0,42), coisas que deveriam ser o foco dos jogadores durante o jogo, o dragão já é bem focado pelos jogadores, mas há espaço para melhorias, já quanto as torres, vimos que elas são mal focadas pelos jogadores, tendo quase 50% deles não destruindo nem uma torre durante toda a partida, este objetivo poderia ganhar uma maior atenção dos jogadores devido a sua relevância em win. Quando abordamos o campo baron a coisa fica ainda pior, pois em 63% dos jogos nenhum dos dois times mata o barão o que é um grande desperdício, dado sua relevância e influencia em win.\n",
    "Pro tanto podemos concluir que os três principais focos dos jogadores deveriam sem o dragão, o barão e as torres, e se possível não morrer muito colabora muito."
   ]
  }
 ],
 "metadata": {
  "file_extension": ".py",
  "kernelspec": {
   "display_name": "Python 3",
   "language": "python",
   "name": "python3"
  },
  "language_info": {
   "codemirror_mode": {
    "name": "ipython",
    "version": 3
   },
   "file_extension": ".py",
   "mimetype": "text/x-python",
   "name": "python",
   "nbconvert_exporter": "python",
   "pygments_lexer": "ipython3",
   "version": "3.6.9"
  },
  "mimetype": "text/x-python",
  "name": "python",
  "npconvert_exporter": "python",
  "pygments_lexer": "ipython3",
  "version": 3
 },
 "nbformat": 4,
 "nbformat_minor": 4
}
